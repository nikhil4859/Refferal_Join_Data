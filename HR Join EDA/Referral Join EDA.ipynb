{
 "cells": [
  {
   "cell_type": "markdown",
   "id": "ca57d71d",
   "metadata": {},
   "source": [
    "# Exploratory Data Analysis for Refferal Data for the Organisation."
   ]
  },
  {
   "cell_type": "markdown",
   "id": "85862af0",
   "metadata": {},
   "source": [
    "**Importing necessary libraries**"
   ]
  },
  {
   "cell_type": "code",
   "execution_count": 314,
   "id": "15e3d61f",
   "metadata": {},
   "outputs": [],
   "source": [
    "import numpy as np\n",
    "import pandas as pd\n",
    "import seaborn as sns\n",
    "import matplotlib.pyplot as plt"
   ]
  },
  {
   "cell_type": "code",
   "execution_count": 315,
   "id": "5426a38b",
   "metadata": {},
   "outputs": [],
   "source": [
    "df=pd.read_csv('Referral_Join_Prediction.csv')"
   ]
  },
  {
   "cell_type": "code",
   "execution_count": 316,
   "id": "5ff2a625",
   "metadata": {},
   "outputs": [
    {
     "data": {
      "text/html": [
       "<div>\n",
       "<style scoped>\n",
       "    .dataframe tbody tr th:only-of-type {\n",
       "        vertical-align: middle;\n",
       "    }\n",
       "\n",
       "    .dataframe tbody tr th {\n",
       "        vertical-align: top;\n",
       "    }\n",
       "\n",
       "    .dataframe thead th {\n",
       "        text-align: right;\n",
       "    }\n",
       "</style>\n",
       "<table border=\"1\" class=\"dataframe\">\n",
       "  <thead>\n",
       "    <tr style=\"text-align: right;\">\n",
       "      <th></th>\n",
       "      <th>referral_id</th>\n",
       "      <th>referral_age</th>\n",
       "      <th>referral_exp_in_years</th>\n",
       "      <th>referral_preferred_city</th>\n",
       "      <th>referral_current_salary</th>\n",
       "      <th>referral_10_th_marks</th>\n",
       "      <th>referral_12th_marks</th>\n",
       "      <th>referral_graduation_marks</th>\n",
       "      <th>referral_post_grad_marks</th>\n",
       "      <th>referral_gender</th>\n",
       "      <th>referral_expected_sal</th>\n",
       "      <th>referral_aptitude_numerical_score</th>\n",
       "      <th>referral_aptitude_verbal_score</th>\n",
       "      <th>referral_aptitude_reasoning_score</th>\n",
       "      <th>referral_Management_Interview_score</th>\n",
       "      <th>referral_HR_Interview_score</th>\n",
       "      <th>Salary offered</th>\n",
       "      <th>Emp_Salary_Grade</th>\n",
       "      <th>Joined</th>\n",
       "    </tr>\n",
       "  </thead>\n",
       "  <tbody>\n",
       "    <tr>\n",
       "      <th>0</th>\n",
       "      <td>1</td>\n",
       "      <td>28</td>\n",
       "      <td>5.0</td>\n",
       "      <td>Delhi</td>\n",
       "      <td>106</td>\n",
       "      <td>89.0</td>\n",
       "      <td>72</td>\n",
       "      <td>87.0</td>\n",
       "      <td>83.0</td>\n",
       "      <td>Male</td>\n",
       "      <td>123.0</td>\n",
       "      <td>10.00</td>\n",
       "      <td>33.04</td>\n",
       "      <td>?</td>\n",
       "      <td>10.0</td>\n",
       "      <td>3</td>\n",
       "      <td>141</td>\n",
       "      <td>EL0</td>\n",
       "      <td>Yes</td>\n",
       "    </tr>\n",
       "    <tr>\n",
       "      <th>1</th>\n",
       "      <td>2</td>\n",
       "      <td>26</td>\n",
       "      <td>3.0</td>\n",
       "      <td>Pune</td>\n",
       "      <td>65</td>\n",
       "      <td>63.0</td>\n",
       "      <td>77</td>\n",
       "      <td>94.0</td>\n",
       "      <td>85.0</td>\n",
       "      <td>Male</td>\n",
       "      <td>83.0</td>\n",
       "      <td>6.09</td>\n",
       "      <td>27.39</td>\n",
       "      <td>20.87</td>\n",
       "      <td>10.0</td>\n",
       "      <td>10</td>\n",
       "      <td>80</td>\n",
       "      <td>ML0</td>\n",
       "      <td>Yes</td>\n",
       "    </tr>\n",
       "    <tr>\n",
       "      <th>2</th>\n",
       "      <td>3</td>\n",
       "      <td>23</td>\n",
       "      <td>2.0</td>\n",
       "      <td>Mumbai</td>\n",
       "      <td>45</td>\n",
       "      <td>92.0</td>\n",
       "      <td>85</td>\n",
       "      <td>84.0</td>\n",
       "      <td>72.0</td>\n",
       "      <td>Male</td>\n",
       "      <td>62.0</td>\n",
       "      <td>41.74</td>\n",
       "      <td>2.61</td>\n",
       "      <td>40.00</td>\n",
       "      <td>2.0</td>\n",
       "      <td>1</td>\n",
       "      <td>60</td>\n",
       "      <td>EL0</td>\n",
       "      <td>No</td>\n",
       "    </tr>\n",
       "    <tr>\n",
       "      <th>3</th>\n",
       "      <td>4</td>\n",
       "      <td>29</td>\n",
       "      <td>6.0</td>\n",
       "      <td>Bangalore</td>\n",
       "      <td>126</td>\n",
       "      <td>60.0</td>\n",
       "      <td>95</td>\n",
       "      <td>95.0</td>\n",
       "      <td>67.0</td>\n",
       "      <td>Male</td>\n",
       "      <td>146.0</td>\n",
       "      <td>31.30</td>\n",
       "      <td>9.13</td>\n",
       "      <td>23.48</td>\n",
       "      <td>9.0</td>\n",
       "      <td>3</td>\n",
       "      <td>142</td>\n",
       "      <td>ML0</td>\n",
       "      <td>Yes</td>\n",
       "    </tr>\n",
       "    <tr>\n",
       "      <th>4</th>\n",
       "      <td>5</td>\n",
       "      <td>26</td>\n",
       "      <td>3.0</td>\n",
       "      <td>Mumbai</td>\n",
       "      <td>65</td>\n",
       "      <td>92.0</td>\n",
       "      <td>70</td>\n",
       "      <td>80.0</td>\n",
       "      <td>92.0</td>\n",
       "      <td>Female</td>\n",
       "      <td>83.0</td>\n",
       "      <td>25.65</td>\n",
       "      <td>30.43</td>\n",
       "      <td>16.52</td>\n",
       "      <td>7.0</td>\n",
       "      <td>4</td>\n",
       "      <td>89</td>\n",
       "      <td>EL0</td>\n",
       "      <td>Yes</td>\n",
       "    </tr>\n",
       "    <tr>\n",
       "      <th>...</th>\n",
       "      <td>...</td>\n",
       "      <td>...</td>\n",
       "      <td>...</td>\n",
       "      <td>...</td>\n",
       "      <td>...</td>\n",
       "      <td>...</td>\n",
       "      <td>...</td>\n",
       "      <td>...</td>\n",
       "      <td>...</td>\n",
       "      <td>...</td>\n",
       "      <td>...</td>\n",
       "      <td>...</td>\n",
       "      <td>...</td>\n",
       "      <td>...</td>\n",
       "      <td>...</td>\n",
       "      <td>...</td>\n",
       "      <td>...</td>\n",
       "      <td>...</td>\n",
       "      <td>...</td>\n",
       "    </tr>\n",
       "    <tr>\n",
       "      <th>494</th>\n",
       "      <td>495</td>\n",
       "      <td>21</td>\n",
       "      <td>1.0</td>\n",
       "      <td>Pune</td>\n",
       "      <td>25</td>\n",
       "      <td>81.0</td>\n",
       "      <td>77</td>\n",
       "      <td>77.0</td>\n",
       "      <td>91.0</td>\n",
       "      <td>Male</td>\n",
       "      <td>42.0</td>\n",
       "      <td>19.13</td>\n",
       "      <td>16.09</td>\n",
       "      <td>6.52</td>\n",
       "      <td>9.0</td>\n",
       "      <td>8</td>\n",
       "      <td>40</td>\n",
       "      <td>EL0</td>\n",
       "      <td>Yes</td>\n",
       "    </tr>\n",
       "    <tr>\n",
       "      <th>495</th>\n",
       "      <td>496</td>\n",
       "      <td>21</td>\n",
       "      <td>1.0</td>\n",
       "      <td>Mumbai</td>\n",
       "      <td>25</td>\n",
       "      <td>74.0</td>\n",
       "      <td>95</td>\n",
       "      <td>67.0</td>\n",
       "      <td>81.0</td>\n",
       "      <td>Female</td>\n",
       "      <td>100.0</td>\n",
       "      <td>3.48</td>\n",
       "      <td>13.04</td>\n",
       "      <td>29.13</td>\n",
       "      <td>9.0</td>\n",
       "      <td>3</td>\n",
       "      <td>40</td>\n",
       "      <td>EL0</td>\n",
       "      <td>Yes</td>\n",
       "    </tr>\n",
       "    <tr>\n",
       "      <th>496</th>\n",
       "      <td>497</td>\n",
       "      <td>29</td>\n",
       "      <td>7.0</td>\n",
       "      <td>Mumbai</td>\n",
       "      <td>146</td>\n",
       "      <td>94.0</td>\n",
       "      <td>92</td>\n",
       "      <td>89.0</td>\n",
       "      <td>71.0</td>\n",
       "      <td>Male</td>\n",
       "      <td>200.0</td>\n",
       "      <td>38.70</td>\n",
       "      <td>5.22</td>\n",
       "      <td>39.57</td>\n",
       "      <td>9.0</td>\n",
       "      <td>5</td>\n",
       "      <td>161</td>\n",
       "      <td>EL0</td>\n",
       "      <td>Yes</td>\n",
       "    </tr>\n",
       "    <tr>\n",
       "      <th>497</th>\n",
       "      <td>498</td>\n",
       "      <td>30</td>\n",
       "      <td>7.0</td>\n",
       "      <td>Mumbai</td>\n",
       "      <td>143</td>\n",
       "      <td>64.0</td>\n",
       "      <td>89</td>\n",
       "      <td>61.0</td>\n",
       "      <td>88.0</td>\n",
       "      <td>Female</td>\n",
       "      <td>160.0</td>\n",
       "      <td>38.70</td>\n",
       "      <td>37.83</td>\n",
       "      <td>6.52</td>\n",
       "      <td>7.0</td>\n",
       "      <td>5</td>\n",
       "      <td>158</td>\n",
       "      <td>EL0</td>\n",
       "      <td>Yes</td>\n",
       "    </tr>\n",
       "    <tr>\n",
       "      <th>498</th>\n",
       "      <td>499</td>\n",
       "      <td>30</td>\n",
       "      <td>8.0</td>\n",
       "      <td>Bangalore</td>\n",
       "      <td>144</td>\n",
       "      <td>67.0</td>\n",
       "      <td>72</td>\n",
       "      <td>81.0</td>\n",
       "      <td>60.0</td>\n",
       "      <td>Female</td>\n",
       "      <td>200.0</td>\n",
       "      <td>33.48</td>\n",
       "      <td>20.43</td>\n",
       "      <td>1.74</td>\n",
       "      <td>4.0</td>\n",
       "      <td>6</td>\n",
       "      <td>159</td>\n",
       "      <td>EE0</td>\n",
       "      <td>No</td>\n",
       "    </tr>\n",
       "  </tbody>\n",
       "</table>\n",
       "<p>499 rows × 19 columns</p>\n",
       "</div>"
      ],
      "text/plain": [
       "     referral_id  referral_age  referral_exp_in_years referral_preferred_city  \\\n",
       "0              1            28                    5.0                   Delhi   \n",
       "1              2            26                    3.0                    Pune   \n",
       "2              3            23                    2.0                  Mumbai   \n",
       "3              4            29                    6.0               Bangalore   \n",
       "4              5            26                    3.0                  Mumbai   \n",
       "..           ...           ...                    ...                     ...   \n",
       "494          495            21                    1.0                    Pune   \n",
       "495          496            21                    1.0                  Mumbai   \n",
       "496          497            29                    7.0                  Mumbai   \n",
       "497          498            30                    7.0                  Mumbai   \n",
       "498          499            30                    8.0               Bangalore   \n",
       "\n",
       "     referral_current_salary  referral_10_th_marks  referral_12th_marks  \\\n",
       "0                        106                  89.0                   72   \n",
       "1                         65                  63.0                   77   \n",
       "2                         45                  92.0                   85   \n",
       "3                        126                  60.0                   95   \n",
       "4                         65                  92.0                   70   \n",
       "..                       ...                   ...                  ...   \n",
       "494                       25                  81.0                   77   \n",
       "495                       25                  74.0                   95   \n",
       "496                      146                  94.0                   92   \n",
       "497                      143                  64.0                   89   \n",
       "498                      144                  67.0                   72   \n",
       "\n",
       "     referral_graduation_marks  referral_post_grad_marks referral_gender  \\\n",
       "0                         87.0                      83.0            Male   \n",
       "1                         94.0                      85.0            Male   \n",
       "2                         84.0                      72.0            Male   \n",
       "3                         95.0                      67.0            Male   \n",
       "4                         80.0                      92.0          Female   \n",
       "..                         ...                       ...             ...   \n",
       "494                       77.0                      91.0            Male   \n",
       "495                       67.0                      81.0          Female   \n",
       "496                       89.0                      71.0            Male   \n",
       "497                       61.0                      88.0          Female   \n",
       "498                       81.0                      60.0          Female   \n",
       "\n",
       "     referral_expected_sal referral_aptitude_numerical_score  \\\n",
       "0                    123.0                             10.00   \n",
       "1                     83.0                              6.09   \n",
       "2                     62.0                             41.74   \n",
       "3                    146.0                             31.30   \n",
       "4                     83.0                             25.65   \n",
       "..                     ...                               ...   \n",
       "494                   42.0                             19.13   \n",
       "495                  100.0                              3.48   \n",
       "496                  200.0                             38.70   \n",
       "497                  160.0                             38.70   \n",
       "498                  200.0                             33.48   \n",
       "\n",
       "     referral_aptitude_verbal_score referral_aptitude_reasoning_score  \\\n",
       "0                             33.04                                 ?   \n",
       "1                             27.39                             20.87   \n",
       "2                              2.61                             40.00   \n",
       "3                              9.13                             23.48   \n",
       "4                             30.43                             16.52   \n",
       "..                              ...                               ...   \n",
       "494                           16.09                              6.52   \n",
       "495                           13.04                             29.13   \n",
       "496                            5.22                             39.57   \n",
       "497                           37.83                              6.52   \n",
       "498                           20.43                              1.74   \n",
       "\n",
       "     referral_Management_Interview_score  referral_HR_Interview_score  \\\n",
       "0                                   10.0                            3   \n",
       "1                                   10.0                           10   \n",
       "2                                    2.0                            1   \n",
       "3                                    9.0                            3   \n",
       "4                                    7.0                            4   \n",
       "..                                   ...                          ...   \n",
       "494                                  9.0                            8   \n",
       "495                                  9.0                            3   \n",
       "496                                  9.0                            5   \n",
       "497                                  7.0                            5   \n",
       "498                                  4.0                            6   \n",
       "\n",
       "     Salary offered Emp_Salary_Grade Joined  \n",
       "0               141              EL0    Yes  \n",
       "1                80              ML0    Yes  \n",
       "2                60              EL0     No  \n",
       "3               142              ML0    Yes  \n",
       "4                89              EL0    Yes  \n",
       "..              ...              ...    ...  \n",
       "494              40              EL0    Yes  \n",
       "495              40              EL0    Yes  \n",
       "496             161              EL0    Yes  \n",
       "497             158              EL0    Yes  \n",
       "498             159              EE0     No  \n",
       "\n",
       "[499 rows x 19 columns]"
      ]
     },
     "execution_count": 316,
     "metadata": {},
     "output_type": "execute_result"
    }
   ],
   "source": [
    "df"
   ]
  },
  {
   "cell_type": "markdown",
   "id": "b6b9f9cf",
   "metadata": {},
   "source": [
    "### Data Description"
   ]
  },
  {
   "cell_type": "code",
   "execution_count": 317,
   "id": "d45d2eb9",
   "metadata": {},
   "outputs": [
    {
     "data": {
      "text/html": [
       "<div>\n",
       "<style scoped>\n",
       "    .dataframe tbody tr th:only-of-type {\n",
       "        vertical-align: middle;\n",
       "    }\n",
       "\n",
       "    .dataframe tbody tr th {\n",
       "        vertical-align: top;\n",
       "    }\n",
       "\n",
       "    .dataframe thead th {\n",
       "        text-align: right;\n",
       "    }\n",
       "</style>\n",
       "<table border=\"1\" class=\"dataframe\">\n",
       "  <thead>\n",
       "    <tr style=\"text-align: right;\">\n",
       "      <th></th>\n",
       "      <th>referral_id</th>\n",
       "      <th>referral_age</th>\n",
       "      <th>referral_exp_in_years</th>\n",
       "      <th>referral_preferred_city</th>\n",
       "      <th>referral_current_salary</th>\n",
       "      <th>referral_10_th_marks</th>\n",
       "      <th>referral_12th_marks</th>\n",
       "      <th>referral_graduation_marks</th>\n",
       "      <th>referral_post_grad_marks</th>\n",
       "      <th>referral_gender</th>\n",
       "      <th>referral_expected_sal</th>\n",
       "      <th>referral_aptitude_numerical_score</th>\n",
       "      <th>referral_aptitude_verbal_score</th>\n",
       "      <th>referral_aptitude_reasoning_score</th>\n",
       "      <th>referral_Management_Interview_score</th>\n",
       "      <th>referral_HR_Interview_score</th>\n",
       "      <th>Salary offered</th>\n",
       "      <th>Emp_Salary_Grade</th>\n",
       "      <th>Joined</th>\n",
       "    </tr>\n",
       "  </thead>\n",
       "  <tbody>\n",
       "    <tr>\n",
       "      <th>0</th>\n",
       "      <td>1</td>\n",
       "      <td>28</td>\n",
       "      <td>5.0</td>\n",
       "      <td>Delhi</td>\n",
       "      <td>106</td>\n",
       "      <td>89.0</td>\n",
       "      <td>72</td>\n",
       "      <td>87.0</td>\n",
       "      <td>83.0</td>\n",
       "      <td>Male</td>\n",
       "      <td>123.0</td>\n",
       "      <td>10.00</td>\n",
       "      <td>33.04</td>\n",
       "      <td>?</td>\n",
       "      <td>10.0</td>\n",
       "      <td>3</td>\n",
       "      <td>141</td>\n",
       "      <td>EL0</td>\n",
       "      <td>Yes</td>\n",
       "    </tr>\n",
       "    <tr>\n",
       "      <th>1</th>\n",
       "      <td>2</td>\n",
       "      <td>26</td>\n",
       "      <td>3.0</td>\n",
       "      <td>Pune</td>\n",
       "      <td>65</td>\n",
       "      <td>63.0</td>\n",
       "      <td>77</td>\n",
       "      <td>94.0</td>\n",
       "      <td>85.0</td>\n",
       "      <td>Male</td>\n",
       "      <td>83.0</td>\n",
       "      <td>6.09</td>\n",
       "      <td>27.39</td>\n",
       "      <td>20.87</td>\n",
       "      <td>10.0</td>\n",
       "      <td>10</td>\n",
       "      <td>80</td>\n",
       "      <td>ML0</td>\n",
       "      <td>Yes</td>\n",
       "    </tr>\n",
       "    <tr>\n",
       "      <th>2</th>\n",
       "      <td>3</td>\n",
       "      <td>23</td>\n",
       "      <td>2.0</td>\n",
       "      <td>Mumbai</td>\n",
       "      <td>45</td>\n",
       "      <td>92.0</td>\n",
       "      <td>85</td>\n",
       "      <td>84.0</td>\n",
       "      <td>72.0</td>\n",
       "      <td>Male</td>\n",
       "      <td>62.0</td>\n",
       "      <td>41.74</td>\n",
       "      <td>2.61</td>\n",
       "      <td>40.00</td>\n",
       "      <td>2.0</td>\n",
       "      <td>1</td>\n",
       "      <td>60</td>\n",
       "      <td>EL0</td>\n",
       "      <td>No</td>\n",
       "    </tr>\n",
       "    <tr>\n",
       "      <th>3</th>\n",
       "      <td>4</td>\n",
       "      <td>29</td>\n",
       "      <td>6.0</td>\n",
       "      <td>Bangalore</td>\n",
       "      <td>126</td>\n",
       "      <td>60.0</td>\n",
       "      <td>95</td>\n",
       "      <td>95.0</td>\n",
       "      <td>67.0</td>\n",
       "      <td>Male</td>\n",
       "      <td>146.0</td>\n",
       "      <td>31.30</td>\n",
       "      <td>9.13</td>\n",
       "      <td>23.48</td>\n",
       "      <td>9.0</td>\n",
       "      <td>3</td>\n",
       "      <td>142</td>\n",
       "      <td>ML0</td>\n",
       "      <td>Yes</td>\n",
       "    </tr>\n",
       "    <tr>\n",
       "      <th>4</th>\n",
       "      <td>5</td>\n",
       "      <td>26</td>\n",
       "      <td>3.0</td>\n",
       "      <td>Mumbai</td>\n",
       "      <td>65</td>\n",
       "      <td>92.0</td>\n",
       "      <td>70</td>\n",
       "      <td>80.0</td>\n",
       "      <td>92.0</td>\n",
       "      <td>Female</td>\n",
       "      <td>83.0</td>\n",
       "      <td>25.65</td>\n",
       "      <td>30.43</td>\n",
       "      <td>16.52</td>\n",
       "      <td>7.0</td>\n",
       "      <td>4</td>\n",
       "      <td>89</td>\n",
       "      <td>EL0</td>\n",
       "      <td>Yes</td>\n",
       "    </tr>\n",
       "  </tbody>\n",
       "</table>\n",
       "</div>"
      ],
      "text/plain": [
       "   referral_id  referral_age  referral_exp_in_years referral_preferred_city  \\\n",
       "0            1            28                    5.0                   Delhi   \n",
       "1            2            26                    3.0                    Pune   \n",
       "2            3            23                    2.0                  Mumbai   \n",
       "3            4            29                    6.0               Bangalore   \n",
       "4            5            26                    3.0                  Mumbai   \n",
       "\n",
       "   referral_current_salary  referral_10_th_marks  referral_12th_marks  \\\n",
       "0                      106                  89.0                   72   \n",
       "1                       65                  63.0                   77   \n",
       "2                       45                  92.0                   85   \n",
       "3                      126                  60.0                   95   \n",
       "4                       65                  92.0                   70   \n",
       "\n",
       "   referral_graduation_marks  referral_post_grad_marks referral_gender  \\\n",
       "0                       87.0                      83.0            Male   \n",
       "1                       94.0                      85.0            Male   \n",
       "2                       84.0                      72.0            Male   \n",
       "3                       95.0                      67.0            Male   \n",
       "4                       80.0                      92.0          Female   \n",
       "\n",
       "   referral_expected_sal referral_aptitude_numerical_score  \\\n",
       "0                  123.0                             10.00   \n",
       "1                   83.0                              6.09   \n",
       "2                   62.0                             41.74   \n",
       "3                  146.0                             31.30   \n",
       "4                   83.0                             25.65   \n",
       "\n",
       "   referral_aptitude_verbal_score referral_aptitude_reasoning_score  \\\n",
       "0                           33.04                                 ?   \n",
       "1                           27.39                             20.87   \n",
       "2                            2.61                             40.00   \n",
       "3                            9.13                             23.48   \n",
       "4                           30.43                             16.52   \n",
       "\n",
       "   referral_Management_Interview_score  referral_HR_Interview_score  \\\n",
       "0                                 10.0                            3   \n",
       "1                                 10.0                           10   \n",
       "2                                  2.0                            1   \n",
       "3                                  9.0                            3   \n",
       "4                                  7.0                            4   \n",
       "\n",
       "   Salary offered Emp_Salary_Grade Joined  \n",
       "0             141              EL0    Yes  \n",
       "1              80              ML0    Yes  \n",
       "2              60              EL0     No  \n",
       "3             142              ML0    Yes  \n",
       "4              89              EL0    Yes  "
      ]
     },
     "execution_count": 317,
     "metadata": {},
     "output_type": "execute_result"
    }
   ],
   "source": [
    "df.head(5) #Top 5 rows of the data. "
   ]
  },
  {
   "cell_type": "markdown",
   "id": "be94ef9b",
   "metadata": {},
   "source": [
    "**Observation**\n",
    "\n",
    "*While we are checking the firs 5 rows of the data, we can see a \"?\" mentioned in th dataset in \"referral_aptitude_reasoning_score\" column.*"
   ]
  },
  {
   "cell_type": "code",
   "execution_count": 318,
   "id": "5e705411",
   "metadata": {},
   "outputs": [
    {
     "name": "stdout",
     "output_type": "stream",
     "text": [
      "<class 'pandas.core.frame.DataFrame'>\n",
      "RangeIndex: 499 entries, 0 to 498\n",
      "Data columns (total 19 columns):\n",
      " #   Column                               Non-Null Count  Dtype  \n",
      "---  ------                               --------------  -----  \n",
      " 0   referral_id                          499 non-null    int64  \n",
      " 1   referral_age                         499 non-null    int64  \n",
      " 2   referral_exp_in_years                499 non-null    float64\n",
      " 3   referral_preferred_city              499 non-null    object \n",
      " 4   referral_current_salary              499 non-null    int64  \n",
      " 5   referral_10_th_marks                 498 non-null    float64\n",
      " 6   referral_12th_marks                  499 non-null    int64  \n",
      " 7   referral_graduation_marks            498 non-null    float64\n",
      " 8   referral_post_grad_marks             498 non-null    float64\n",
      " 9   referral_gender                      499 non-null    object \n",
      " 10  referral_expected_sal                497 non-null    float64\n",
      " 11  referral_aptitude_numerical_score    496 non-null    object \n",
      " 12  referral_aptitude_verbal_score       489 non-null    float64\n",
      " 13  referral_aptitude_reasoning_score    495 non-null    object \n",
      " 14  referral_Management_Interview_score  498 non-null    float64\n",
      " 15  referral_HR_Interview_score          499 non-null    int64  \n",
      " 16  Salary offered                       499 non-null    int64  \n",
      " 17  Emp_Salary_Grade                     499 non-null    object \n",
      " 18  Joined                               499 non-null    object \n",
      "dtypes: float64(7), int64(6), object(6)\n",
      "memory usage: 74.2+ KB\n"
     ]
    }
   ],
   "source": [
    "df.info() #We will check the quick details of the dataset. "
   ]
  },
  {
   "cell_type": "markdown",
   "id": "49152ff6",
   "metadata": {},
   "source": [
    "**Observation**\n",
    "\n",
    "*As we can see, we have total of 19 columns, with 499 entries and 7 Float, 6 Integer and 6 Object Data Type present in he dataset, also we can see there are some missing values in 'referral_10_th_marks', 'referral_graduation_marks', 'referral_post_grad_marks', 'referral_expected_sal', 'referral_aptitude_numerical_score', 'referral_aptitude_verbal_score', 'referral_aptitude_reasoning_score' and 'referral_Management_Interview_score'*\n",
    "\n",
    "**We will also need to fix the data type for 'referral_aptitude_numerical_score' and 'referral_aptitude_reasoning_score'**"
   ]
  },
  {
   "cell_type": "code",
   "execution_count": 319,
   "id": "bd020460",
   "metadata": {},
   "outputs": [
    {
     "data": {
      "text/html": [
       "<div>\n",
       "<style scoped>\n",
       "    .dataframe tbody tr th:only-of-type {\n",
       "        vertical-align: middle;\n",
       "    }\n",
       "\n",
       "    .dataframe tbody tr th {\n",
       "        vertical-align: top;\n",
       "    }\n",
       "\n",
       "    .dataframe thead th {\n",
       "        text-align: right;\n",
       "    }\n",
       "</style>\n",
       "<table border=\"1\" class=\"dataframe\">\n",
       "  <thead>\n",
       "    <tr style=\"text-align: right;\">\n",
       "      <th></th>\n",
       "      <th>count</th>\n",
       "      <th>mean</th>\n",
       "      <th>std</th>\n",
       "      <th>min</th>\n",
       "      <th>25%</th>\n",
       "      <th>50%</th>\n",
       "      <th>75%</th>\n",
       "      <th>max</th>\n",
       "    </tr>\n",
       "  </thead>\n",
       "  <tbody>\n",
       "    <tr>\n",
       "      <th>referral_id</th>\n",
       "      <td>499.0</td>\n",
       "      <td>250.000000</td>\n",
       "      <td>144.193157</td>\n",
       "      <td>1.00</td>\n",
       "      <td>125.50</td>\n",
       "      <td>250.00</td>\n",
       "      <td>374.50</td>\n",
       "      <td>499.00</td>\n",
       "    </tr>\n",
       "    <tr>\n",
       "      <th>referral_age</th>\n",
       "      <td>499.0</td>\n",
       "      <td>27.020040</td>\n",
       "      <td>2.811979</td>\n",
       "      <td>20.00</td>\n",
       "      <td>25.00</td>\n",
       "      <td>27.00</td>\n",
       "      <td>29.00</td>\n",
       "      <td>65.00</td>\n",
       "    </tr>\n",
       "    <tr>\n",
       "      <th>referral_exp_in_years</th>\n",
       "      <td>499.0</td>\n",
       "      <td>4.053307</td>\n",
       "      <td>2.609814</td>\n",
       "      <td>1.00</td>\n",
       "      <td>2.00</td>\n",
       "      <td>4.00</td>\n",
       "      <td>6.00</td>\n",
       "      <td>42.00</td>\n",
       "    </tr>\n",
       "    <tr>\n",
       "      <th>referral_current_salary</th>\n",
       "      <td>499.0</td>\n",
       "      <td>86.472946</td>\n",
       "      <td>52.566584</td>\n",
       "      <td>25.00</td>\n",
       "      <td>45.00</td>\n",
       "      <td>85.00</td>\n",
       "      <td>126.00</td>\n",
       "      <td>853.00</td>\n",
       "    </tr>\n",
       "    <tr>\n",
       "      <th>referral_10_th_marks</th>\n",
       "      <td>498.0</td>\n",
       "      <td>77.295181</td>\n",
       "      <td>11.128083</td>\n",
       "      <td>-1.00</td>\n",
       "      <td>68.00</td>\n",
       "      <td>78.00</td>\n",
       "      <td>87.00</td>\n",
       "      <td>103.00</td>\n",
       "    </tr>\n",
       "    <tr>\n",
       "      <th>referral_12th_marks</th>\n",
       "      <td>499.0</td>\n",
       "      <td>77.478958</td>\n",
       "      <td>10.932113</td>\n",
       "      <td>12.00</td>\n",
       "      <td>69.00</td>\n",
       "      <td>77.00</td>\n",
       "      <td>87.00</td>\n",
       "      <td>95.00</td>\n",
       "    </tr>\n",
       "    <tr>\n",
       "      <th>referral_graduation_marks</th>\n",
       "      <td>498.0</td>\n",
       "      <td>77.096386</td>\n",
       "      <td>10.812223</td>\n",
       "      <td>-1.00</td>\n",
       "      <td>68.00</td>\n",
       "      <td>77.00</td>\n",
       "      <td>86.00</td>\n",
       "      <td>104.00</td>\n",
       "    </tr>\n",
       "    <tr>\n",
       "      <th>referral_post_grad_marks</th>\n",
       "      <td>498.0</td>\n",
       "      <td>78.269076</td>\n",
       "      <td>10.478487</td>\n",
       "      <td>60.00</td>\n",
       "      <td>69.00</td>\n",
       "      <td>78.00</td>\n",
       "      <td>88.75</td>\n",
       "      <td>101.00</td>\n",
       "    </tr>\n",
       "    <tr>\n",
       "      <th>referral_expected_sal</th>\n",
       "      <td>497.0</td>\n",
       "      <td>108.692153</td>\n",
       "      <td>58.722281</td>\n",
       "      <td>40.00</td>\n",
       "      <td>62.00</td>\n",
       "      <td>103.00</td>\n",
       "      <td>143.00</td>\n",
       "      <td>870.00</td>\n",
       "    </tr>\n",
       "    <tr>\n",
       "      <th>referral_aptitude_verbal_score</th>\n",
       "      <td>489.0</td>\n",
       "      <td>21.840491</td>\n",
       "      <td>12.338425</td>\n",
       "      <td>0.43</td>\n",
       "      <td>11.74</td>\n",
       "      <td>20.87</td>\n",
       "      <td>32.61</td>\n",
       "      <td>43.48</td>\n",
       "    </tr>\n",
       "    <tr>\n",
       "      <th>referral_Management_Interview_score</th>\n",
       "      <td>498.0</td>\n",
       "      <td>5.732932</td>\n",
       "      <td>2.922706</td>\n",
       "      <td>1.00</td>\n",
       "      <td>3.00</td>\n",
       "      <td>6.00</td>\n",
       "      <td>8.00</td>\n",
       "      <td>10.00</td>\n",
       "    </tr>\n",
       "    <tr>\n",
       "      <th>referral_HR_Interview_score</th>\n",
       "      <td>499.0</td>\n",
       "      <td>5.651303</td>\n",
       "      <td>5.500516</td>\n",
       "      <td>1.00</td>\n",
       "      <td>3.00</td>\n",
       "      <td>5.00</td>\n",
       "      <td>8.00</td>\n",
       "      <td>111.00</td>\n",
       "    </tr>\n",
       "    <tr>\n",
       "      <th>Salary offered</th>\n",
       "      <td>499.0</td>\n",
       "      <td>102.006012</td>\n",
       "      <td>52.619704</td>\n",
       "      <td>40.00</td>\n",
       "      <td>60.00</td>\n",
       "      <td>101.00</td>\n",
       "      <td>141.00</td>\n",
       "      <td>868.00</td>\n",
       "    </tr>\n",
       "  </tbody>\n",
       "</table>\n",
       "</div>"
      ],
      "text/plain": [
       "                                     count        mean         std    min  \\\n",
       "referral_id                          499.0  250.000000  144.193157   1.00   \n",
       "referral_age                         499.0   27.020040    2.811979  20.00   \n",
       "referral_exp_in_years                499.0    4.053307    2.609814   1.00   \n",
       "referral_current_salary              499.0   86.472946   52.566584  25.00   \n",
       "referral_10_th_marks                 498.0   77.295181   11.128083  -1.00   \n",
       "referral_12th_marks                  499.0   77.478958   10.932113  12.00   \n",
       "referral_graduation_marks            498.0   77.096386   10.812223  -1.00   \n",
       "referral_post_grad_marks             498.0   78.269076   10.478487  60.00   \n",
       "referral_expected_sal                497.0  108.692153   58.722281  40.00   \n",
       "referral_aptitude_verbal_score       489.0   21.840491   12.338425   0.43   \n",
       "referral_Management_Interview_score  498.0    5.732932    2.922706   1.00   \n",
       "referral_HR_Interview_score          499.0    5.651303    5.500516   1.00   \n",
       "Salary offered                       499.0  102.006012   52.619704  40.00   \n",
       "\n",
       "                                        25%     50%     75%     max  \n",
       "referral_id                          125.50  250.00  374.50  499.00  \n",
       "referral_age                          25.00   27.00   29.00   65.00  \n",
       "referral_exp_in_years                  2.00    4.00    6.00   42.00  \n",
       "referral_current_salary               45.00   85.00  126.00  853.00  \n",
       "referral_10_th_marks                  68.00   78.00   87.00  103.00  \n",
       "referral_12th_marks                   69.00   77.00   87.00   95.00  \n",
       "referral_graduation_marks             68.00   77.00   86.00  104.00  \n",
       "referral_post_grad_marks              69.00   78.00   88.75  101.00  \n",
       "referral_expected_sal                 62.00  103.00  143.00  870.00  \n",
       "referral_aptitude_verbal_score        11.74   20.87   32.61   43.48  \n",
       "referral_Management_Interview_score    3.00    6.00    8.00   10.00  \n",
       "referral_HR_Interview_score            3.00    5.00    8.00  111.00  \n",
       "Salary offered                        60.00  101.00  141.00  868.00  "
      ]
     },
     "execution_count": 319,
     "metadata": {},
     "output_type": "execute_result"
    }
   ],
   "source": [
    "df.describe().T #Describing the numerical data present in the data set. "
   ]
  },
  {
   "cell_type": "markdown",
   "id": "566deac2",
   "metadata": {},
   "source": [
    "**Observation**\n",
    "\n",
    "***1. 10th Marks for a refferal is ranging from -1  and 103, aslo the similar wihh 'referral_graduation_marks' which seems invalid and needs to be checked.***\n",
    "\n",
    "***2. The age for refferals is ranging from 1 year to 42 year, but almost 75% of the refferal have an experinbcxe of upto 7 years.***\n",
    "\n",
    "***3. The age for refferals is ranging from 1 year to 42 year, but almost 75% of the refferal have an experinbce of upto 7 years.***\n",
    "\n",
    "***4. The mean and median of most of the features seem to be close to each other, hence it can be concluded that the distribution is normal.***"
   ]
  },
  {
   "cell_type": "markdown",
   "id": "a5051543",
   "metadata": {},
   "source": [
    "**As we check that the 'referral_aptitude_numerical_score' and 'referral_aptitude_reasoning_score' should be Numberic data type, but are mentioned as Object Data Type, we will have to check the data and treat if we have some issue with he data quality.**"
   ]
  },
  {
   "cell_type": "code",
   "execution_count": 320,
   "id": "ed33d68a",
   "metadata": {},
   "outputs": [
    {
     "data": {
      "text/plain": [
       "array(['10.00', '6.09', '41.74', '31.30', '25.65', '38.70', '30.43',\n",
       "       '5.65', '18.70', '23.04', '27.39', '28.26', '32.61', '40.00',\n",
       "       '24.78', '0.87', '27.83', '18.26', '20.87', '6.52', '21.74',\n",
       "       '4.78', '26.96', '39.13', '3.04', '13.48', '33.91', '3.48',\n",
       "       '15.65', '13.91', '38.26', '3.91', '28.70', '23.48', '10.43',\n",
       "       '8.26', '39.57', '7.39', '30.87', '5.22', '12.61', '16.96',\n",
       "       '34.35', '33.04', '10.87', '4.35', '35.65', '16.52', '20.43',\n",
       "       '36.52', '40.43', '7.83', '6.96', '22.17', '34.78', '33.48',\n",
       "       '43.48', '0.43', '17.39', '9.13', '29.57', '19.13', '17.83',\n",
       "       '37.83', '36.09', '23.91', '36.96', '19.57', '31.74', '22.61',\n",
       "       '12.17', '37.39', '14.78', '30.00', '11.74', '35.22', '2.61',\n",
       "       '40.87', '42.61', '29.13', '?', '9.57', '43.04', '13.04', '25.22',\n",
       "       '1.74', '15.22', '11.30', '32.17', '14.35', '20.00', nan, '2.17',\n",
       "       '26.52', '26.09', '1.30', '8.70', '41.30', '16.09', '42.17',\n",
       "       '24.35'], dtype=object)"
      ]
     },
     "execution_count": 320,
     "metadata": {},
     "output_type": "execute_result"
    }
   ],
   "source": [
    "df['referral_aptitude_numerical_score'].unique()"
   ]
  },
  {
   "cell_type": "code",
   "execution_count": 321,
   "id": "8c1439a5",
   "metadata": {},
   "outputs": [
    {
     "data": {
      "text/plain": [
       "array(['?', '20.87', '40.00', '23.48', '16.52', '32.61', '18.26', '2.50',\n",
       "       '36.52', '3.04', '38.70', '26.52', '22.61', '14.35', '0.87',\n",
       "       '13.04', '39.13', '34.35', '43.48', '20.43', '25.22', '37.83',\n",
       "       '3.91', '28.26', '15.22', '15.65', '35.22', '17.39', '24.78',\n",
       "       '33.04', '42.61', '31.74', '21.74', '6.09', '2.17', '8.70',\n",
       "       '41.30', '26.09', '23.91', '27.83', '9.57', '10.43', '40.87',\n",
       "       '12.17', '6.96', '33.48', '12.61', '42.17', '6.52', '2.61',\n",
       "       '23.04', '20.00', '7.39', '4.35', '25.65', '31.30', '30.43',\n",
       "       '5.22', '10.00', '37.39', '27.39', '0.23', '26.96', '34.78',\n",
       "       '13.48', '19.13', '8.26', '24.35', '21.30', '0.67', '0.99',\n",
       "       '29.57', '78.00', '36.96', '19.57', '36.09', '38.26', '28.70',\n",
       "       '69.67', '33.91', '10.87', '0.43', '89.00', '18.70', '13.91', nan,\n",
       "       '32.17', '7.83', '40.43', '16.09', '43.04', '30.00', '39.57',\n",
       "       '29.13', '41.74', '11.74', '22.17', '16.96', '3.48', '35.65',\n",
       "       '30.87', '4.78', '1.74', '11.30', '9.13', '1.30', '5.65', '14.78'],\n",
       "      dtype=object)"
      ]
     },
     "execution_count": 321,
     "metadata": {},
     "output_type": "execute_result"
    }
   ],
   "source": [
    "df['referral_aptitude_reasoning_score'].unique()"
   ]
  },
  {
   "cell_type": "markdown",
   "id": "e96d0aa9",
   "metadata": {},
   "source": [
    "**As we can see above, we have '?' and 'nan' as a bad value on the data that needs to be treated.**"
   ]
  },
  {
   "cell_type": "code",
   "execution_count": 322,
   "id": "37a1c6f4",
   "metadata": {},
   "outputs": [],
   "source": [
    "df['referral_aptitude_reasoning_score'].replace('nan',np.NaN, inplace = True)\n",
    "df['referral_aptitude_reasoning_score'].replace('?',np.NaN, inplace = True)"
   ]
  },
  {
   "cell_type": "code",
   "execution_count": 323,
   "id": "4309d1d3",
   "metadata": {},
   "outputs": [],
   "source": [
    "df['referral_aptitude_numerical_score'].replace('?',np.NaN, inplace = True)\n",
    "df['referral_aptitude_numerical_score'].replace('nan',np.NaN, inplace = True)"
   ]
  },
  {
   "cell_type": "markdown",
   "id": "7a4c6904",
   "metadata": {},
   "source": [
    "**Because of the Bad Data, the data type was considered as Object, we will now convert it to Numeric data type.**"
   ]
  },
  {
   "cell_type": "code",
   "execution_count": 324,
   "id": "7bf920cf",
   "metadata": {},
   "outputs": [],
   "source": [
    "df['referral_aptitude_reasoning_score'] = df['referral_aptitude_reasoning_score'].astype('float64')\n",
    "df['referral_aptitude_numerical_score'] = df['referral_aptitude_numerical_score'].astype('float64')"
   ]
  },
  {
   "cell_type": "code",
   "execution_count": 325,
   "id": "0777f3e1",
   "metadata": {},
   "outputs": [
    {
     "name": "stdout",
     "output_type": "stream",
     "text": [
      "<class 'pandas.core.frame.DataFrame'>\n",
      "RangeIndex: 499 entries, 0 to 498\n",
      "Data columns (total 19 columns):\n",
      " #   Column                               Non-Null Count  Dtype  \n",
      "---  ------                               --------------  -----  \n",
      " 0   referral_id                          499 non-null    int64  \n",
      " 1   referral_age                         499 non-null    int64  \n",
      " 2   referral_exp_in_years                499 non-null    float64\n",
      " 3   referral_preferred_city              499 non-null    object \n",
      " 4   referral_current_salary              499 non-null    int64  \n",
      " 5   referral_10_th_marks                 498 non-null    float64\n",
      " 6   referral_12th_marks                  499 non-null    int64  \n",
      " 7   referral_graduation_marks            498 non-null    float64\n",
      " 8   referral_post_grad_marks             498 non-null    float64\n",
      " 9   referral_gender                      499 non-null    object \n",
      " 10  referral_expected_sal                497 non-null    float64\n",
      " 11  referral_aptitude_numerical_score    495 non-null    float64\n",
      " 12  referral_aptitude_verbal_score       489 non-null    float64\n",
      " 13  referral_aptitude_reasoning_score    491 non-null    float64\n",
      " 14  referral_Management_Interview_score  498 non-null    float64\n",
      " 15  referral_HR_Interview_score          499 non-null    int64  \n",
      " 16  Salary offered                       499 non-null    int64  \n",
      " 17  Emp_Salary_Grade                     499 non-null    object \n",
      " 18  Joined                               499 non-null    object \n",
      "dtypes: float64(9), int64(6), object(4)\n",
      "memory usage: 74.2+ KB\n"
     ]
    }
   ],
   "source": [
    "df.info()"
   ]
  },
  {
   "cell_type": "markdown",
   "id": "0ed2e376",
   "metadata": {},
   "source": [
    "**The data type has been chnage for the wrongly mapped Object Data Type to Numerice data Type**"
   ]
  },
  {
   "cell_type": "markdown",
   "id": "36eddfc2",
   "metadata": {},
   "source": [
    "***Now we will have to ensure that the Scores should be a atleast 33% for Grad, 12th and 10th, we have observed a -1 value in the Data Description, we will consider reating them.***"
   ]
  },
  {
   "cell_type": "code",
   "execution_count": 326,
   "id": "24341d4a",
   "metadata": {},
   "outputs": [
    {
     "data": {
      "text/html": [
       "<div>\n",
       "<style scoped>\n",
       "    .dataframe tbody tr th:only-of-type {\n",
       "        vertical-align: middle;\n",
       "    }\n",
       "\n",
       "    .dataframe tbody tr th {\n",
       "        vertical-align: top;\n",
       "    }\n",
       "\n",
       "    .dataframe thead th {\n",
       "        text-align: right;\n",
       "    }\n",
       "</style>\n",
       "<table border=\"1\" class=\"dataframe\">\n",
       "  <thead>\n",
       "    <tr style=\"text-align: right;\">\n",
       "      <th></th>\n",
       "      <th>referral_id</th>\n",
       "      <th>referral_age</th>\n",
       "      <th>referral_exp_in_years</th>\n",
       "      <th>referral_preferred_city</th>\n",
       "      <th>referral_current_salary</th>\n",
       "      <th>referral_10_th_marks</th>\n",
       "      <th>referral_12th_marks</th>\n",
       "      <th>referral_graduation_marks</th>\n",
       "      <th>referral_post_grad_marks</th>\n",
       "      <th>referral_gender</th>\n",
       "      <th>referral_expected_sal</th>\n",
       "      <th>referral_aptitude_numerical_score</th>\n",
       "      <th>referral_aptitude_verbal_score</th>\n",
       "      <th>referral_aptitude_reasoning_score</th>\n",
       "      <th>referral_Management_Interview_score</th>\n",
       "      <th>referral_HR_Interview_score</th>\n",
       "      <th>Salary offered</th>\n",
       "      <th>Emp_Salary_Grade</th>\n",
       "      <th>Joined</th>\n",
       "    </tr>\n",
       "  </thead>\n",
       "  <tbody>\n",
       "    <tr>\n",
       "      <th>89</th>\n",
       "      <td>90</td>\n",
       "      <td>27</td>\n",
       "      <td>4.0</td>\n",
       "      <td>Bangalore</td>\n",
       "      <td>85</td>\n",
       "      <td>-1.0</td>\n",
       "      <td>81</td>\n",
       "      <td>93.0</td>\n",
       "      <td>86.0</td>\n",
       "      <td>Female</td>\n",
       "      <td>103.0</td>\n",
       "      <td>31.74</td>\n",
       "      <td>6.52</td>\n",
       "      <td>30.43</td>\n",
       "      <td>10.0</td>\n",
       "      <td>3</td>\n",
       "      <td>101</td>\n",
       "      <td>EL0</td>\n",
       "      <td>Yes</td>\n",
       "    </tr>\n",
       "  </tbody>\n",
       "</table>\n",
       "</div>"
      ],
      "text/plain": [
       "    referral_id  referral_age  referral_exp_in_years referral_preferred_city  \\\n",
       "89           90            27                    4.0               Bangalore   \n",
       "\n",
       "    referral_current_salary  referral_10_th_marks  referral_12th_marks  \\\n",
       "89                       85                  -1.0                   81   \n",
       "\n",
       "    referral_graduation_marks  referral_post_grad_marks referral_gender  \\\n",
       "89                       93.0                      86.0          Female   \n",
       "\n",
       "    referral_expected_sal  referral_aptitude_numerical_score  \\\n",
       "89                  103.0                              31.74   \n",
       "\n",
       "    referral_aptitude_verbal_score  referral_aptitude_reasoning_score  \\\n",
       "89                            6.52                              30.43   \n",
       "\n",
       "    referral_Management_Interview_score  referral_HR_Interview_score  \\\n",
       "89                                 10.0                            3   \n",
       "\n",
       "    Salary offered Emp_Salary_Grade Joined  \n",
       "89             101              EL0    Yes  "
      ]
     },
     "execution_count": 326,
     "metadata": {},
     "output_type": "execute_result"
    }
   ],
   "source": [
    "df[df['referral_10_th_marks'] < 33]"
   ]
  },
  {
   "cell_type": "code",
   "execution_count": 327,
   "id": "af2c0b14",
   "metadata": {},
   "outputs": [
    {
     "data": {
      "text/html": [
       "<div>\n",
       "<style scoped>\n",
       "    .dataframe tbody tr th:only-of-type {\n",
       "        vertical-align: middle;\n",
       "    }\n",
       "\n",
       "    .dataframe tbody tr th {\n",
       "        vertical-align: top;\n",
       "    }\n",
       "\n",
       "    .dataframe thead th {\n",
       "        text-align: right;\n",
       "    }\n",
       "</style>\n",
       "<table border=\"1\" class=\"dataframe\">\n",
       "  <thead>\n",
       "    <tr style=\"text-align: right;\">\n",
       "      <th></th>\n",
       "      <th>referral_id</th>\n",
       "      <th>referral_age</th>\n",
       "      <th>referral_exp_in_years</th>\n",
       "      <th>referral_preferred_city</th>\n",
       "      <th>referral_current_salary</th>\n",
       "      <th>referral_10_th_marks</th>\n",
       "      <th>referral_12th_marks</th>\n",
       "      <th>referral_graduation_marks</th>\n",
       "      <th>referral_post_grad_marks</th>\n",
       "      <th>referral_gender</th>\n",
       "      <th>referral_expected_sal</th>\n",
       "      <th>referral_aptitude_numerical_score</th>\n",
       "      <th>referral_aptitude_verbal_score</th>\n",
       "      <th>referral_aptitude_reasoning_score</th>\n",
       "      <th>referral_Management_Interview_score</th>\n",
       "      <th>referral_HR_Interview_score</th>\n",
       "      <th>Salary offered</th>\n",
       "      <th>Emp_Salary_Grade</th>\n",
       "      <th>Joined</th>\n",
       "    </tr>\n",
       "  </thead>\n",
       "  <tbody>\n",
       "    <tr>\n",
       "      <th>187</th>\n",
       "      <td>188</td>\n",
       "      <td>28</td>\n",
       "      <td>5.0</td>\n",
       "      <td>Bangalore</td>\n",
       "      <td>106</td>\n",
       "      <td>66.0</td>\n",
       "      <td>12</td>\n",
       "      <td>76.0</td>\n",
       "      <td>81.0</td>\n",
       "      <td>Male</td>\n",
       "      <td>123.0</td>\n",
       "      <td>23.91</td>\n",
       "      <td>4.78</td>\n",
       "      <td>2.17</td>\n",
       "      <td>6.0</td>\n",
       "      <td>4</td>\n",
       "      <td>121</td>\n",
       "      <td>ML0</td>\n",
       "      <td>No</td>\n",
       "    </tr>\n",
       "  </tbody>\n",
       "</table>\n",
       "</div>"
      ],
      "text/plain": [
       "     referral_id  referral_age  referral_exp_in_years referral_preferred_city  \\\n",
       "187          188            28                    5.0               Bangalore   \n",
       "\n",
       "     referral_current_salary  referral_10_th_marks  referral_12th_marks  \\\n",
       "187                      106                  66.0                   12   \n",
       "\n",
       "     referral_graduation_marks  referral_post_grad_marks referral_gender  \\\n",
       "187                       76.0                      81.0            Male   \n",
       "\n",
       "     referral_expected_sal  referral_aptitude_numerical_score  \\\n",
       "187                  123.0                              23.91   \n",
       "\n",
       "     referral_aptitude_verbal_score  referral_aptitude_reasoning_score  \\\n",
       "187                            4.78                               2.17   \n",
       "\n",
       "     referral_Management_Interview_score  referral_HR_Interview_score  \\\n",
       "187                                  6.0                            4   \n",
       "\n",
       "     Salary offered Emp_Salary_Grade Joined  \n",
       "187             121              ML0     No  "
      ]
     },
     "execution_count": 327,
     "metadata": {},
     "output_type": "execute_result"
    }
   ],
   "source": [
    "df[df['referral_12th_marks'] < 33]"
   ]
  },
  {
   "cell_type": "code",
   "execution_count": 328,
   "id": "48462384",
   "metadata": {},
   "outputs": [
    {
     "data": {
      "text/html": [
       "<div>\n",
       "<style scoped>\n",
       "    .dataframe tbody tr th:only-of-type {\n",
       "        vertical-align: middle;\n",
       "    }\n",
       "\n",
       "    .dataframe tbody tr th {\n",
       "        vertical-align: top;\n",
       "    }\n",
       "\n",
       "    .dataframe thead th {\n",
       "        text-align: right;\n",
       "    }\n",
       "</style>\n",
       "<table border=\"1\" class=\"dataframe\">\n",
       "  <thead>\n",
       "    <tr style=\"text-align: right;\">\n",
       "      <th></th>\n",
       "      <th>referral_id</th>\n",
       "      <th>referral_age</th>\n",
       "      <th>referral_exp_in_years</th>\n",
       "      <th>referral_preferred_city</th>\n",
       "      <th>referral_current_salary</th>\n",
       "      <th>referral_10_th_marks</th>\n",
       "      <th>referral_12th_marks</th>\n",
       "      <th>referral_graduation_marks</th>\n",
       "      <th>referral_post_grad_marks</th>\n",
       "      <th>referral_gender</th>\n",
       "      <th>referral_expected_sal</th>\n",
       "      <th>referral_aptitude_numerical_score</th>\n",
       "      <th>referral_aptitude_verbal_score</th>\n",
       "      <th>referral_aptitude_reasoning_score</th>\n",
       "      <th>referral_Management_Interview_score</th>\n",
       "      <th>referral_HR_Interview_score</th>\n",
       "      <th>Salary offered</th>\n",
       "      <th>Emp_Salary_Grade</th>\n",
       "      <th>Joined</th>\n",
       "    </tr>\n",
       "  </thead>\n",
       "  <tbody>\n",
       "    <tr>\n",
       "      <th>270</th>\n",
       "      <td>271</td>\n",
       "      <td>29</td>\n",
       "      <td>6.0</td>\n",
       "      <td>Bangalore</td>\n",
       "      <td>126</td>\n",
       "      <td>82.0</td>\n",
       "      <td>88</td>\n",
       "      <td>-1.0</td>\n",
       "      <td>64.0</td>\n",
       "      <td>Male</td>\n",
       "      <td>143.0</td>\n",
       "      <td>10.43</td>\n",
       "      <td>27.39</td>\n",
       "      <td>27.83</td>\n",
       "      <td>1.0</td>\n",
       "      <td>6</td>\n",
       "      <td>141</td>\n",
       "      <td>ML0</td>\n",
       "      <td>No</td>\n",
       "    </tr>\n",
       "  </tbody>\n",
       "</table>\n",
       "</div>"
      ],
      "text/plain": [
       "     referral_id  referral_age  referral_exp_in_years referral_preferred_city  \\\n",
       "270          271            29                    6.0               Bangalore   \n",
       "\n",
       "     referral_current_salary  referral_10_th_marks  referral_12th_marks  \\\n",
       "270                      126                  82.0                   88   \n",
       "\n",
       "     referral_graduation_marks  referral_post_grad_marks referral_gender  \\\n",
       "270                       -1.0                      64.0            Male   \n",
       "\n",
       "     referral_expected_sal  referral_aptitude_numerical_score  \\\n",
       "270                  143.0                              10.43   \n",
       "\n",
       "     referral_aptitude_verbal_score  referral_aptitude_reasoning_score  \\\n",
       "270                           27.39                              27.83   \n",
       "\n",
       "     referral_Management_Interview_score  referral_HR_Interview_score  \\\n",
       "270                                  1.0                            6   \n",
       "\n",
       "     Salary offered Emp_Salary_Grade Joined  \n",
       "270             141              ML0     No  "
      ]
     },
     "execution_count": 328,
     "metadata": {},
     "output_type": "execute_result"
    }
   ],
   "source": [
    "df[df['referral_graduation_marks'] < 33]"
   ]
  },
  {
   "cell_type": "code",
   "execution_count": 329,
   "id": "cf44ac65",
   "metadata": {},
   "outputs": [
    {
     "data": {
      "text/html": [
       "<div>\n",
       "<style scoped>\n",
       "    .dataframe tbody tr th:only-of-type {\n",
       "        vertical-align: middle;\n",
       "    }\n",
       "\n",
       "    .dataframe tbody tr th {\n",
       "        vertical-align: top;\n",
       "    }\n",
       "\n",
       "    .dataframe thead th {\n",
       "        text-align: right;\n",
       "    }\n",
       "</style>\n",
       "<table border=\"1\" class=\"dataframe\">\n",
       "  <thead>\n",
       "    <tr style=\"text-align: right;\">\n",
       "      <th></th>\n",
       "      <th>referral_id</th>\n",
       "      <th>referral_age</th>\n",
       "      <th>referral_exp_in_years</th>\n",
       "      <th>referral_preferred_city</th>\n",
       "      <th>referral_current_salary</th>\n",
       "      <th>referral_10_th_marks</th>\n",
       "      <th>referral_12th_marks</th>\n",
       "      <th>referral_graduation_marks</th>\n",
       "      <th>referral_post_grad_marks</th>\n",
       "      <th>referral_gender</th>\n",
       "      <th>referral_expected_sal</th>\n",
       "      <th>referral_aptitude_numerical_score</th>\n",
       "      <th>referral_aptitude_verbal_score</th>\n",
       "      <th>referral_aptitude_reasoning_score</th>\n",
       "      <th>referral_Management_Interview_score</th>\n",
       "      <th>referral_HR_Interview_score</th>\n",
       "      <th>Salary offered</th>\n",
       "      <th>Emp_Salary_Grade</th>\n",
       "      <th>Joined</th>\n",
       "    </tr>\n",
       "  </thead>\n",
       "  <tbody>\n",
       "  </tbody>\n",
       "</table>\n",
       "</div>"
      ],
      "text/plain": [
       "Empty DataFrame\n",
       "Columns: [referral_id, referral_age, referral_exp_in_years, referral_preferred_city, referral_current_salary, referral_10_th_marks, referral_12th_marks, referral_graduation_marks, referral_post_grad_marks, referral_gender, referral_expected_sal, referral_aptitude_numerical_score, referral_aptitude_verbal_score, referral_aptitude_reasoning_score, referral_Management_Interview_score, referral_HR_Interview_score, Salary offered, Emp_Salary_Grade, Joined]\n",
       "Index: []"
      ]
     },
     "execution_count": 329,
     "metadata": {},
     "output_type": "execute_result"
    }
   ],
   "source": [
    "df[df['referral_post_grad_marks'] < 33]"
   ]
  },
  {
   "cell_type": "markdown",
   "id": "1eab630b",
   "metadata": {},
   "source": [
    "### Data Pre-Processing"
   ]
  },
  {
   "cell_type": "markdown",
   "id": "d3078cc6",
   "metadata": {},
   "source": [
    "**We can see we have one row each in 10th, 12th and Grad where the marks are below 33, and for 10th and Grad the marks are -1, which is invalid. We will impute the value with the median marks for that column.**"
   ]
  },
  {
   "cell_type": "code",
   "execution_count": 330,
   "id": "4f298712",
   "metadata": {},
   "outputs": [],
   "source": [
    "df['referral_10_th_marks'] = np.where(df['referral_10_th_marks']==-1, df['referral_12th_marks'], df['referral_10_th_marks'])"
   ]
  },
  {
   "cell_type": "code",
   "execution_count": 331,
   "id": "98cec3bd",
   "metadata": {},
   "outputs": [],
   "source": [
    "df['referral_12th_marks'] = np.where(df['referral_12th_marks']==12, df['referral_10_th_marks'], df['referral_12th_marks'])"
   ]
  },
  {
   "cell_type": "code",
   "execution_count": 332,
   "id": "39168721",
   "metadata": {},
   "outputs": [],
   "source": [
    "df['referral_graduation_marks'] = np.where(df['referral_graduation_marks']==-1, df['referral_graduation_marks'].mean(), df['referral_12th_marks'])"
   ]
  },
  {
   "cell_type": "markdown",
   "id": "63002cc3",
   "metadata": {},
   "source": [
    "**Above, we have imputed 10th mark as 12th mark insted of -1 and a 12th mark as 12 equal to 10th marks as 66 and have taken the mean for the graduation mark where the graduation mark is -1.**"
   ]
  },
  {
   "cell_type": "code",
   "execution_count": 333,
   "id": "20919cdf",
   "metadata": {},
   "outputs": [
    {
     "data": {
      "text/plain": [
       "referral_id                                   90\n",
       "referral_age                                  27\n",
       "referral_exp_in_years                        4.0\n",
       "referral_preferred_city                Bangalore\n",
       "referral_current_salary                       85\n",
       "referral_10_th_marks                        81.0\n",
       "referral_12th_marks                         81.0\n",
       "referral_graduation_marks                   81.0\n",
       "referral_post_grad_marks                    86.0\n",
       "referral_gender                           Female\n",
       "referral_expected_sal                      103.0\n",
       "referral_aptitude_numerical_score          31.74\n",
       "referral_aptitude_verbal_score              6.52\n",
       "referral_aptitude_reasoning_score          30.43\n",
       "referral_Management_Interview_score         10.0\n",
       "referral_HR_Interview_score                    3\n",
       "Salary offered                               101\n",
       "Emp_Salary_Grade                             EL0\n",
       "Joined                                       Yes\n",
       "Name: 89, dtype: object"
      ]
     },
     "execution_count": 333,
     "metadata": {},
     "output_type": "execute_result"
    }
   ],
   "source": [
    "df.iloc[89]"
   ]
  },
  {
   "cell_type": "code",
   "execution_count": 334,
   "id": "b4f91ad6",
   "metadata": {},
   "outputs": [
    {
     "data": {
      "text/plain": [
       "referral_id                                  188\n",
       "referral_age                                  28\n",
       "referral_exp_in_years                        5.0\n",
       "referral_preferred_city                Bangalore\n",
       "referral_current_salary                      106\n",
       "referral_10_th_marks                        66.0\n",
       "referral_12th_marks                         66.0\n",
       "referral_graduation_marks                   66.0\n",
       "referral_post_grad_marks                    81.0\n",
       "referral_gender                             Male\n",
       "referral_expected_sal                      123.0\n",
       "referral_aptitude_numerical_score          23.91\n",
       "referral_aptitude_verbal_score              4.78\n",
       "referral_aptitude_reasoning_score           2.17\n",
       "referral_Management_Interview_score          6.0\n",
       "referral_HR_Interview_score                    4\n",
       "Salary offered                               121\n",
       "Emp_Salary_Grade                             ML0\n",
       "Joined                                        No\n",
       "Name: 187, dtype: object"
      ]
     },
     "execution_count": 334,
     "metadata": {},
     "output_type": "execute_result"
    }
   ],
   "source": [
    "df.iloc[187]"
   ]
  },
  {
   "cell_type": "code",
   "execution_count": 335,
   "id": "0a18c8fb",
   "metadata": {},
   "outputs": [
    {
     "data": {
      "text/plain": [
       "referral_id                                  271\n",
       "referral_age                                  29\n",
       "referral_exp_in_years                        6.0\n",
       "referral_preferred_city                Bangalore\n",
       "referral_current_salary                      126\n",
       "referral_10_th_marks                        82.0\n",
       "referral_12th_marks                         88.0\n",
       "referral_graduation_marks              77.096386\n",
       "referral_post_grad_marks                    64.0\n",
       "referral_gender                             Male\n",
       "referral_expected_sal                      143.0\n",
       "referral_aptitude_numerical_score          10.43\n",
       "referral_aptitude_verbal_score             27.39\n",
       "referral_aptitude_reasoning_score          27.83\n",
       "referral_Management_Interview_score          1.0\n",
       "referral_HR_Interview_score                    6\n",
       "Salary offered                               141\n",
       "Emp_Salary_Grade                             ML0\n",
       "Joined                                        No\n",
       "Name: 270, dtype: object"
      ]
     },
     "execution_count": 335,
     "metadata": {},
     "output_type": "execute_result"
    }
   ],
   "source": [
    "df.iloc[270]"
   ]
  },
  {
   "cell_type": "markdown",
   "id": "7bd1b519",
   "metadata": {},
   "source": [
    "**As we can see above, the values of the particular coulumn have been treated.**"
   ]
  },
  {
   "cell_type": "code",
   "execution_count": 336,
   "id": "3d37c7db",
   "metadata": {},
   "outputs": [
    {
     "data": {
      "text/plain": [
       "count    498.000000\n",
       "mean      77.459839\n",
       "std       10.559375\n",
       "min       60.000000\n",
       "25%       68.000000\n",
       "50%       78.000000\n",
       "75%       87.000000\n",
       "max      103.000000\n",
       "Name: referral_10_th_marks, dtype: float64"
      ]
     },
     "execution_count": 336,
     "metadata": {},
     "output_type": "execute_result"
    }
   ],
   "source": [
    "df['referral_10_th_marks'].describe()"
   ]
  },
  {
   "cell_type": "code",
   "execution_count": 337,
   "id": "92525c4d",
   "metadata": {},
   "outputs": [
    {
     "data": {
      "text/plain": [
       "count    499.000000\n",
       "mean      77.587174\n",
       "std       10.542985\n",
       "min       60.000000\n",
       "25%       69.000000\n",
       "50%       77.000000\n",
       "75%       87.000000\n",
       "max       95.000000\n",
       "Name: referral_12th_marks, dtype: float64"
      ]
     },
     "execution_count": 337,
     "metadata": {},
     "output_type": "execute_result"
    }
   ],
   "source": [
    "df['referral_12th_marks'].describe()"
   ]
  },
  {
   "cell_type": "markdown",
   "id": "9dd03a88",
   "metadata": {},
   "source": [
    "*We are able to see the data description here.*"
   ]
  },
  {
   "cell_type": "code",
   "execution_count": 338,
   "id": "79372db8",
   "metadata": {},
   "outputs": [
    {
     "data": {
      "text/plain": [
       "referral_id                             0\n",
       "referral_age                            0\n",
       "referral_exp_in_years                   0\n",
       "referral_preferred_city                 0\n",
       "referral_current_salary                 0\n",
       "referral_10_th_marks                    1\n",
       "referral_12th_marks                     0\n",
       "referral_graduation_marks               0\n",
       "referral_post_grad_marks                1\n",
       "referral_gender                         0\n",
       "referral_expected_sal                   2\n",
       "referral_aptitude_numerical_score       4\n",
       "referral_aptitude_verbal_score         10\n",
       "referral_aptitude_reasoning_score       8\n",
       "referral_Management_Interview_score     1\n",
       "referral_HR_Interview_score             0\n",
       "Salary offered                          0\n",
       "Emp_Salary_Grade                        0\n",
       "Joined                                  0\n",
       "dtype: int64"
      ]
     },
     "execution_count": 338,
     "metadata": {},
     "output_type": "execute_result"
    }
   ],
   "source": [
    "df.isnull().sum() #We will now check the count of missing values. "
   ]
  },
  {
   "cell_type": "code",
   "execution_count": 339,
   "id": "851509bd",
   "metadata": {},
   "outputs": [
    {
     "data": {
      "text/plain": [
       "referral_id                            False\n",
       "referral_age                           False\n",
       "referral_exp_in_years                  False\n",
       "referral_preferred_city                 True\n",
       "referral_current_salary                False\n",
       "referral_10_th_marks                   False\n",
       "referral_12th_marks                    False\n",
       "referral_graduation_marks              False\n",
       "referral_post_grad_marks               False\n",
       "referral_gender                         True\n",
       "referral_expected_sal                  False\n",
       "referral_aptitude_numerical_score      False\n",
       "referral_aptitude_verbal_score         False\n",
       "referral_aptitude_reasoning_score      False\n",
       "referral_Management_Interview_score    False\n",
       "referral_HR_Interview_score            False\n",
       "Salary offered                         False\n",
       "Emp_Salary_Grade                        True\n",
       "Joined                                  True\n",
       "dtype: bool"
      ]
     },
     "execution_count": 339,
     "metadata": {},
     "output_type": "execute_result"
    }
   ],
   "source": [
    "df.dtypes == object"
   ]
  },
  {
   "cell_type": "code",
   "execution_count": 340,
   "id": "505956b4",
   "metadata": {},
   "outputs": [
    {
     "name": "stdout",
     "output_type": "stream",
     "text": [
      "\n",
      "\n",
      "Mumbai       232\n",
      "Bangalore    142\n",
      "Delhi         93\n",
      "Pune          32\n",
      "Name: referral_preferred_city, dtype: int64\n",
      "\n",
      "\n",
      "Male      260\n",
      "Female    238\n",
      "?           1\n",
      "Name: referral_gender, dtype: int64\n",
      "\n",
      "\n",
      "EL0    221\n",
      "ML0    187\n",
      "EE0     91\n",
      "Name: Emp_Salary_Grade, dtype: int64\n",
      "\n",
      "\n",
      "No     261\n",
      "Yes    238\n",
      "Name: Joined, dtype: int64\n"
     ]
    }
   ],
   "source": [
    "for col in df.select_dtypes(include=[object]):\n",
    "    value_count= df[col].value_counts()\n",
    "    print('\\n')\n",
    "    print(value_count)"
   ]
  },
  {
   "cell_type": "markdown",
   "id": "149b29db",
   "metadata": {},
   "source": [
    "***As we can see the values looks good, with most people from Mumbai followed by Delhi and we can see an odd value in the Gender Collun, we will be treating that using the mode or we can also rectify it by checking in the datasource and identifying the gender of the particular candidate.***"
   ]
  },
  {
   "cell_type": "code",
   "execution_count": 341,
   "id": "c55aedc6",
   "metadata": {},
   "outputs": [
    {
     "data": {
      "text/html": [
       "<div>\n",
       "<style scoped>\n",
       "    .dataframe tbody tr th:only-of-type {\n",
       "        vertical-align: middle;\n",
       "    }\n",
       "\n",
       "    .dataframe tbody tr th {\n",
       "        vertical-align: top;\n",
       "    }\n",
       "\n",
       "    .dataframe thead th {\n",
       "        text-align: right;\n",
       "    }\n",
       "</style>\n",
       "<table border=\"1\" class=\"dataframe\">\n",
       "  <thead>\n",
       "    <tr style=\"text-align: right;\">\n",
       "      <th></th>\n",
       "      <th>referral_id</th>\n",
       "      <th>referral_age</th>\n",
       "      <th>referral_exp_in_years</th>\n",
       "      <th>referral_preferred_city</th>\n",
       "      <th>referral_current_salary</th>\n",
       "      <th>referral_10_th_marks</th>\n",
       "      <th>referral_12th_marks</th>\n",
       "      <th>referral_graduation_marks</th>\n",
       "      <th>referral_post_grad_marks</th>\n",
       "      <th>referral_gender</th>\n",
       "      <th>referral_expected_sal</th>\n",
       "      <th>referral_aptitude_numerical_score</th>\n",
       "      <th>referral_aptitude_verbal_score</th>\n",
       "      <th>referral_aptitude_reasoning_score</th>\n",
       "      <th>referral_Management_Interview_score</th>\n",
       "      <th>referral_HR_Interview_score</th>\n",
       "      <th>Salary offered</th>\n",
       "      <th>Emp_Salary_Grade</th>\n",
       "      <th>Joined</th>\n",
       "    </tr>\n",
       "  </thead>\n",
       "  <tbody>\n",
       "    <tr>\n",
       "      <th>245</th>\n",
       "      <td>246</td>\n",
       "      <td>27</td>\n",
       "      <td>4.0</td>\n",
       "      <td>Mumbai</td>\n",
       "      <td>85</td>\n",
       "      <td>83.0</td>\n",
       "      <td>91.0</td>\n",
       "      <td>91.0</td>\n",
       "      <td>74.0</td>\n",
       "      <td>?</td>\n",
       "      <td>103.0</td>\n",
       "      <td>21.74</td>\n",
       "      <td>23.91</td>\n",
       "      <td>11.74</td>\n",
       "      <td>4.0</td>\n",
       "      <td>3</td>\n",
       "      <td>101</td>\n",
       "      <td>ML0</td>\n",
       "      <td>No</td>\n",
       "    </tr>\n",
       "  </tbody>\n",
       "</table>\n",
       "</div>"
      ],
      "text/plain": [
       "     referral_id  referral_age  referral_exp_in_years referral_preferred_city  \\\n",
       "245          246            27                    4.0                  Mumbai   \n",
       "\n",
       "     referral_current_salary  referral_10_th_marks  referral_12th_marks  \\\n",
       "245                       85                  83.0                 91.0   \n",
       "\n",
       "     referral_graduation_marks  referral_post_grad_marks referral_gender  \\\n",
       "245                       91.0                      74.0               ?   \n",
       "\n",
       "     referral_expected_sal  referral_aptitude_numerical_score  \\\n",
       "245                  103.0                              21.74   \n",
       "\n",
       "     referral_aptitude_verbal_score  referral_aptitude_reasoning_score  \\\n",
       "245                           23.91                              11.74   \n",
       "\n",
       "     referral_Management_Interview_score  referral_HR_Interview_score  \\\n",
       "245                                  4.0                            3   \n",
       "\n",
       "     Salary offered Emp_Salary_Grade Joined  \n",
       "245             101              ML0     No  "
      ]
     },
     "execution_count": 341,
     "metadata": {},
     "output_type": "execute_result"
    }
   ],
   "source": [
    "df[df['referral_gender'] == '?']"
   ]
  },
  {
   "cell_type": "code",
   "execution_count": 342,
   "id": "3433fb85",
   "metadata": {},
   "outputs": [],
   "source": [
    "df['referral_gender'].replace('?', np.NaN, inplace = True) #We have replaced the '?' with a Null and now we will impute mode here. "
   ]
  },
  {
   "cell_type": "code",
   "execution_count": 343,
   "id": "adc60143",
   "metadata": {},
   "outputs": [
    {
     "name": "stdout",
     "output_type": "stream",
     "text": [
      "\n",
      "\n",
      "Mumbai       232\n",
      "Bangalore    142\n",
      "Delhi         93\n",
      "Pune          32\n",
      "Name: referral_preferred_city, dtype: int64\n",
      "\n",
      "\n",
      "Male      260\n",
      "Female    238\n",
      "Name: referral_gender, dtype: int64\n",
      "\n",
      "\n",
      "EL0    221\n",
      "ML0    187\n",
      "EE0     91\n",
      "Name: Emp_Salary_Grade, dtype: int64\n",
      "\n",
      "\n",
      "No     261\n",
      "Yes    238\n",
      "Name: Joined, dtype: int64\n"
     ]
    }
   ],
   "source": [
    "for col in df.select_dtypes(include=[object]):\n",
    "    value_count= df[col].value_counts()\n",
    "    print('\\n')\n",
    "    print(value_count)"
   ]
  },
  {
   "cell_type": "markdown",
   "id": "7f646d6a",
   "metadata": {},
   "source": [
    "**As we can see the values looks good, with most people from Mumbai followed by Delhi and we can see an odd value in the Gender Collun, we will be treating that using the mode or we can also rectify it by checking in the datasource and identifying the gender of the particular candidate. **"
   ]
  },
  {
   "cell_type": "code",
   "execution_count": 344,
   "id": "8d95618a",
   "metadata": {},
   "outputs": [
    {
     "data": {
      "text/html": [
       "<div>\n",
       "<style scoped>\n",
       "    .dataframe tbody tr th:only-of-type {\n",
       "        vertical-align: middle;\n",
       "    }\n",
       "\n",
       "    .dataframe tbody tr th {\n",
       "        vertical-align: top;\n",
       "    }\n",
       "\n",
       "    .dataframe thead th {\n",
       "        text-align: right;\n",
       "    }\n",
       "</style>\n",
       "<table border=\"1\" class=\"dataframe\">\n",
       "  <thead>\n",
       "    <tr style=\"text-align: right;\">\n",
       "      <th></th>\n",
       "      <th>referral_id</th>\n",
       "      <th>referral_age</th>\n",
       "      <th>referral_exp_in_years</th>\n",
       "      <th>referral_preferred_city</th>\n",
       "      <th>referral_current_salary</th>\n",
       "      <th>referral_10_th_marks</th>\n",
       "      <th>referral_12th_marks</th>\n",
       "      <th>referral_graduation_marks</th>\n",
       "      <th>referral_post_grad_marks</th>\n",
       "      <th>referral_gender</th>\n",
       "      <th>referral_expected_sal</th>\n",
       "      <th>referral_aptitude_numerical_score</th>\n",
       "      <th>referral_aptitude_verbal_score</th>\n",
       "      <th>referral_aptitude_reasoning_score</th>\n",
       "      <th>referral_Management_Interview_score</th>\n",
       "      <th>referral_HR_Interview_score</th>\n",
       "      <th>Salary offered</th>\n",
       "      <th>Emp_Salary_Grade</th>\n",
       "      <th>Joined</th>\n",
       "    </tr>\n",
       "  </thead>\n",
       "  <tbody>\n",
       "    <tr>\n",
       "      <th>245</th>\n",
       "      <td>246</td>\n",
       "      <td>27</td>\n",
       "      <td>4.0</td>\n",
       "      <td>Mumbai</td>\n",
       "      <td>85</td>\n",
       "      <td>83.0</td>\n",
       "      <td>91.0</td>\n",
       "      <td>91.0</td>\n",
       "      <td>74.0</td>\n",
       "      <td>NaN</td>\n",
       "      <td>103.0</td>\n",
       "      <td>21.74</td>\n",
       "      <td>23.91</td>\n",
       "      <td>11.74</td>\n",
       "      <td>4.0</td>\n",
       "      <td>3</td>\n",
       "      <td>101</td>\n",
       "      <td>ML0</td>\n",
       "      <td>No</td>\n",
       "    </tr>\n",
       "  </tbody>\n",
       "</table>\n",
       "</div>"
      ],
      "text/plain": [
       "     referral_id  referral_age  referral_exp_in_years referral_preferred_city  \\\n",
       "245          246            27                    4.0                  Mumbai   \n",
       "\n",
       "     referral_current_salary  referral_10_th_marks  referral_12th_marks  \\\n",
       "245                       85                  83.0                 91.0   \n",
       "\n",
       "     referral_graduation_marks  referral_post_grad_marks referral_gender  \\\n",
       "245                       91.0                      74.0             NaN   \n",
       "\n",
       "     referral_expected_sal  referral_aptitude_numerical_score  \\\n",
       "245                  103.0                              21.74   \n",
       "\n",
       "     referral_aptitude_verbal_score  referral_aptitude_reasoning_score  \\\n",
       "245                           23.91                              11.74   \n",
       "\n",
       "     referral_Management_Interview_score  referral_HR_Interview_score  \\\n",
       "245                                  4.0                            3   \n",
       "\n",
       "     Salary offered Emp_Salary_Grade Joined  \n",
       "245             101              ML0     No  "
      ]
     },
     "execution_count": 344,
     "metadata": {},
     "output_type": "execute_result"
    }
   ],
   "source": [
    "df[df['referral_gender'].isnull()]"
   ]
  },
  {
   "cell_type": "code",
   "execution_count": 345,
   "id": "cfcb8b66",
   "metadata": {},
   "outputs": [],
   "source": [
    "df['referral_gender'] = np.where(df['referral_gender'].isnull(), df['referral_gender'].mode(), df['referral_gender'])"
   ]
  },
  {
   "cell_type": "code",
   "execution_count": 346,
   "id": "f285d7f6",
   "metadata": {},
   "outputs": [
    {
     "data": {
      "text/plain": [
       "referral_id                               246\n",
       "referral_age                               27\n",
       "referral_exp_in_years                     4.0\n",
       "referral_preferred_city                Mumbai\n",
       "referral_current_salary                    85\n",
       "referral_10_th_marks                     83.0\n",
       "referral_12th_marks                      91.0\n",
       "referral_graduation_marks                91.0\n",
       "referral_post_grad_marks                 74.0\n",
       "referral_gender                          Male\n",
       "referral_expected_sal                   103.0\n",
       "referral_aptitude_numerical_score       21.74\n",
       "referral_aptitude_verbal_score          23.91\n",
       "referral_aptitude_reasoning_score       11.74\n",
       "referral_Management_Interview_score       4.0\n",
       "referral_HR_Interview_score                 3\n",
       "Salary offered                            101\n",
       "Emp_Salary_Grade                          ML0\n",
       "Joined                                     No\n",
       "Name: 245, dtype: object"
      ]
     },
     "execution_count": 346,
     "metadata": {},
     "output_type": "execute_result"
    }
   ],
   "source": [
    "df.iloc[245]"
   ]
  },
  {
   "cell_type": "markdown",
   "id": "f8043963",
   "metadata": {},
   "source": [
    "***We have sucessfully imputed the Null value with Male value in the dataset.***"
   ]
  },
  {
   "cell_type": "code",
   "execution_count": 347,
   "id": "a931e8df",
   "metadata": {},
   "outputs": [
    {
     "data": {
      "text/plain": [
       "referral_id                             0\n",
       "referral_age                            0\n",
       "referral_exp_in_years                   0\n",
       "referral_preferred_city                 0\n",
       "referral_current_salary                 0\n",
       "referral_10_th_marks                    1\n",
       "referral_12th_marks                     0\n",
       "referral_graduation_marks               0\n",
       "referral_post_grad_marks                1\n",
       "referral_gender                         0\n",
       "referral_expected_sal                   2\n",
       "referral_aptitude_numerical_score       4\n",
       "referral_aptitude_verbal_score         10\n",
       "referral_aptitude_reasoning_score       8\n",
       "referral_Management_Interview_score     1\n",
       "referral_HR_Interview_score             0\n",
       "Salary offered                          0\n",
       "Emp_Salary_Grade                        0\n",
       "Joined                                  0\n",
       "dtype: int64"
      ]
     },
     "execution_count": 347,
     "metadata": {},
     "output_type": "execute_result"
    }
   ],
   "source": [
    "df.isnull().sum() #We will now check the count of missing values. "
   ]
  },
  {
   "cell_type": "code",
   "execution_count": 348,
   "id": "8b5af756",
   "metadata": {},
   "outputs": [
    {
     "name": "stderr",
     "output_type": "stream",
     "text": [
      "C:\\Users\\NikhilSingh\\anaconda3\\lib\\site-packages\\seaborn\\_decorators.py:36: FutureWarning: Pass the following variable as a keyword arg: x. From version 0.12, the only valid positional argument will be `data`, and passing other arguments without an explicit keyword will result in an error or misinterpretation.\n",
      "  warnings.warn(\n"
     ]
    },
    {
     "data": {
      "text/plain": [
       "<AxesSubplot:xlabel='referral_aptitude_verbal_score'>"
      ]
     },
     "execution_count": 348,
     "metadata": {},
     "output_type": "execute_result"
    },
    {
     "data": {
      "image/png": "[encoded data removed]",
      "text/plain": [
       "<Figure size 432x288 with 1 Axes>"
      ]
     },
     "metadata": {
      "needs_background": "light"
     },
     "output_type": "display_data"
    }
   ],
   "source": [
    "sns.boxplot(df['referral_aptitude_verbal_score'])"
   ]
  },
  {
   "cell_type": "code",
   "execution_count": 349,
   "id": "59c77e8c",
   "metadata": {},
   "outputs": [
    {
     "name": "stderr",
     "output_type": "stream",
     "text": [
      "C:\\Users\\NikhilSingh\\anaconda3\\lib\\site-packages\\seaborn\\_decorators.py:36: FutureWarning: Pass the following variable as a keyword arg: x. From version 0.12, the only valid positional argument will be `data`, and passing other arguments without an explicit keyword will result in an error or misinterpretation.\n",
      "  warnings.warn(\n"
     ]
    },
    {
     "data": {
      "text/plain": [
       "<AxesSubplot:xlabel='referral_aptitude_reasoning_score'>"
      ]
     },
     "execution_count": 349,
     "metadata": {},
     "output_type": "execute_result"
    },
    {
     "data": {
      "image/png": "[encoded data removed]",
      "text/plain": [
       "<Figure size 432x288 with 1 Axes>"
      ]
     },
     "metadata": {
      "needs_background": "light"
     },
     "output_type": "display_data"
    }
   ],
   "source": [
    "sns.boxplot(df['referral_aptitude_reasoning_score'])"
   ]
  },
  {
   "cell_type": "code",
   "execution_count": 350,
   "id": "402f63b8",
   "metadata": {},
   "outputs": [
    {
     "name": "stderr",
     "output_type": "stream",
     "text": [
      "C:\\Users\\NikhilSingh\\anaconda3\\lib\\site-packages\\seaborn\\_decorators.py:36: FutureWarning: Pass the following variable as a keyword arg: x. From version 0.12, the only valid positional argument will be `data`, and passing other arguments without an explicit keyword will result in an error or misinterpretation.\n",
      "  warnings.warn(\n"
     ]
    },
    {
     "data": {
      "text/plain": [
       "<AxesSubplot:xlabel='referral_Management_Interview_score'>"
      ]
     },
     "execution_count": 350,
     "metadata": {},
     "output_type": "execute_result"
    },
    {
     "data": {
      "image/png": "[encoded data removed]",
      "text/plain": [
       "<Figure size 432x288 with 1 Axes>"
      ]
     },
     "metadata": {
      "needs_background": "light"
     },
     "output_type": "display_data"
    }
   ],
   "source": [
    "sns.boxplot(df['referral_Management_Interview_score'])"
   ]
  },
  {
   "cell_type": "code",
   "execution_count": 351,
   "id": "53dab59a",
   "metadata": {},
   "outputs": [
    {
     "name": "stderr",
     "output_type": "stream",
     "text": [
      "C:\\Users\\NikhilSingh\\anaconda3\\lib\\site-packages\\seaborn\\_decorators.py:36: FutureWarning: Pass the following variable as a keyword arg: x. From version 0.12, the only valid positional argument will be `data`, and passing other arguments without an explicit keyword will result in an error or misinterpretation.\n",
      "  warnings.warn(\n"
     ]
    },
    {
     "data": {
      "text/plain": [
       "<AxesSubplot:xlabel='referral_10_th_marks'>"
      ]
     },
     "execution_count": 351,
     "metadata": {},
     "output_type": "execute_result"
    },
    {
     "data": {
      "image/png": "[encoded data removed]",
      "text/plain": [
       "<Figure size 432x288 with 1 Axes>"
      ]
     },
     "metadata": {
      "needs_background": "light"
     },
     "output_type": "display_data"
    }
   ],
   "source": [
    "sns.boxplot(df['referral_10_th_marks'])"
   ]
  },
  {
   "cell_type": "markdown",
   "id": "cdb1c2b7",
   "metadata": {},
   "source": [
    "**As we can see the coulms which are having a missing value have outliers in 'referral_aptitude_reasoning_score', so we will impute median value, else we will impute the missing values with mean.**"
   ]
  },
  {
   "cell_type": "code",
   "execution_count": 352,
   "id": "d99c11d8",
   "metadata": {},
   "outputs": [],
   "source": [
    "df['referral_10_th_marks'].fillna(df['referral_10_th_marks'].mean(), inplace = True)"
   ]
  },
  {
   "cell_type": "code",
   "execution_count": 353,
   "id": "499fe75e",
   "metadata": {},
   "outputs": [],
   "source": [
    "df['referral_Management_Interview_score'].fillna(df['referral_Management_Interview_score'].mean(), inplace = True)"
   ]
  },
  {
   "cell_type": "code",
   "execution_count": 354,
   "id": "f0da7ddd",
   "metadata": {},
   "outputs": [],
   "source": [
    "df['referral_aptitude_verbal_score'].fillna(df['referral_aptitude_verbal_score'].mean(), inplace = True)"
   ]
  },
  {
   "cell_type": "code",
   "execution_count": 355,
   "id": "56e063bf",
   "metadata": {},
   "outputs": [],
   "source": [
    "df['referral_aptitude_reasoning_score'].fillna(df['referral_aptitude_reasoning_score'].median(), inplace = True)"
   ]
  },
  {
   "cell_type": "code",
   "execution_count": 356,
   "id": "c1432a31",
   "metadata": {},
   "outputs": [],
   "source": [
    "df['referral_post_grad_marks'].fillna(df['referral_post_grad_marks'].median(), inplace = True)"
   ]
  },
  {
   "cell_type": "code",
   "execution_count": 357,
   "id": "f821d14f",
   "metadata": {},
   "outputs": [],
   "source": [
    "df['referral_expected_sal'].fillna(df['referral_expected_sal'].median(), inplace = True)"
   ]
  },
  {
   "cell_type": "code",
   "execution_count": 358,
   "id": "2512ec44",
   "metadata": {},
   "outputs": [],
   "source": [
    "df['referral_aptitude_numerical_score'].fillna(df['referral_aptitude_numerical_score'].median(), inplace = True)"
   ]
  },
  {
   "cell_type": "code",
   "execution_count": 359,
   "id": "a097a91c",
   "metadata": {},
   "outputs": [
    {
     "data": {
      "text/plain": [
       "referral_id                            0\n",
       "referral_age                           0\n",
       "referral_exp_in_years                  0\n",
       "referral_preferred_city                0\n",
       "referral_current_salary                0\n",
       "referral_10_th_marks                   0\n",
       "referral_12th_marks                    0\n",
       "referral_graduation_marks              0\n",
       "referral_post_grad_marks               0\n",
       "referral_gender                        0\n",
       "referral_expected_sal                  0\n",
       "referral_aptitude_numerical_score      0\n",
       "referral_aptitude_verbal_score         0\n",
       "referral_aptitude_reasoning_score      0\n",
       "referral_Management_Interview_score    0\n",
       "referral_HR_Interview_score            0\n",
       "Salary offered                         0\n",
       "Emp_Salary_Grade                       0\n",
       "Joined                                 0\n",
       "dtype: int64"
      ]
     },
     "execution_count": 359,
     "metadata": {},
     "output_type": "execute_result"
    }
   ],
   "source": [
    "df.isnull().sum() #We will now check the count of missing values. "
   ]
  },
  {
   "cell_type": "markdown",
   "id": "b394c45a",
   "metadata": {},
   "source": [
    "**Now, we can see that we have removed all the null values and the data looks all good to proceed for further analysis.**"
   ]
  },
  {
   "cell_type": "code",
   "execution_count": 360,
   "id": "8a291126",
   "metadata": {},
   "outputs": [
    {
     "data": {
      "text/plain": [
       "0"
      ]
     },
     "execution_count": 360,
     "metadata": {},
     "output_type": "execute_result"
    }
   ],
   "source": [
    "df.duplicated().sum() #We will  now check if there are any duplicate entries in the dataset. "
   ]
  },
  {
   "cell_type": "markdown",
   "id": "6c3c523b",
   "metadata": {},
   "source": [
    "**We have checked for duplicates and we have not found any duplicate values here. Now we can drop the referal ID as it will not contribute to our analysis.**"
   ]
  },
  {
   "cell_type": "code",
   "execution_count": 361,
   "id": "af62aa5a",
   "metadata": {},
   "outputs": [],
   "source": [
    "df.drop('referral_id', inplace = True, axis = 1)"
   ]
  },
  {
   "cell_type": "code",
   "execution_count": 362,
   "id": "b201f58d",
   "metadata": {},
   "outputs": [
    {
     "data": {
      "text/plain": [
       "(499, 18)"
      ]
     },
     "execution_count": 362,
     "metadata": {},
     "output_type": "execute_result"
    }
   ],
   "source": [
    "df.shape"
   ]
  },
  {
   "cell_type": "markdown",
   "id": "5006a884",
   "metadata": {},
   "source": [
    "**Now, we have dropped the 'referral_id' column, and we are just left with 18 column in the dataset.**"
   ]
  },
  {
   "cell_type": "markdown",
   "id": "ddc55977",
   "metadata": {},
   "source": [
    "### Data Vizualizaion"
   ]
  },
  {
   "cell_type": "code",
   "execution_count": 363,
   "id": "492fc16e",
   "metadata": {},
   "outputs": [
    {
     "data": {
      "text/html": [
       "<div>\n",
       "<style scoped>\n",
       "    .dataframe tbody tr th:only-of-type {\n",
       "        vertical-align: middle;\n",
       "    }\n",
       "\n",
       "    .dataframe tbody tr th {\n",
       "        vertical-align: top;\n",
       "    }\n",
       "\n",
       "    .dataframe thead th {\n",
       "        text-align: right;\n",
       "    }\n",
       "</style>\n",
       "<table border=\"1\" class=\"dataframe\">\n",
       "  <thead>\n",
       "    <tr style=\"text-align: right;\">\n",
       "      <th></th>\n",
       "      <th>referral_exp_in_years</th>\n",
       "      <th>referral_current_salary</th>\n",
       "    </tr>\n",
       "  </thead>\n",
       "  <tbody>\n",
       "    <tr>\n",
       "      <th>count</th>\n",
       "      <td>499.000000</td>\n",
       "      <td>499.000000</td>\n",
       "    </tr>\n",
       "    <tr>\n",
       "      <th>mean</th>\n",
       "      <td>4.053307</td>\n",
       "      <td>86.472946</td>\n",
       "    </tr>\n",
       "    <tr>\n",
       "      <th>std</th>\n",
       "      <td>2.609814</td>\n",
       "      <td>52.566584</td>\n",
       "    </tr>\n",
       "    <tr>\n",
       "      <th>min</th>\n",
       "      <td>1.000000</td>\n",
       "      <td>25.000000</td>\n",
       "    </tr>\n",
       "    <tr>\n",
       "      <th>25%</th>\n",
       "      <td>2.000000</td>\n",
       "      <td>45.000000</td>\n",
       "    </tr>\n",
       "    <tr>\n",
       "      <th>50%</th>\n",
       "      <td>4.000000</td>\n",
       "      <td>85.000000</td>\n",
       "    </tr>\n",
       "    <tr>\n",
       "      <th>75%</th>\n",
       "      <td>6.000000</td>\n",
       "      <td>126.000000</td>\n",
       "    </tr>\n",
       "    <tr>\n",
       "      <th>max</th>\n",
       "      <td>42.000000</td>\n",
       "      <td>853.000000</td>\n",
       "    </tr>\n",
       "  </tbody>\n",
       "</table>\n",
       "</div>"
      ],
      "text/plain": [
       "       referral_exp_in_years  referral_current_salary\n",
       "count             499.000000               499.000000\n",
       "mean                4.053307                86.472946\n",
       "std                 2.609814                52.566584\n",
       "min                 1.000000                25.000000\n",
       "25%                 2.000000                45.000000\n",
       "50%                 4.000000                85.000000\n",
       "75%                 6.000000               126.000000\n",
       "max                42.000000               853.000000"
      ]
     },
     "execution_count": 363,
     "metadata": {},
     "output_type": "execute_result"
    }
   ],
   "source": [
    "df[['referral_exp_in_years','referral_current_salary']].describe()"
   ]
  },
  {
   "cell_type": "markdown",
   "id": "01f82ed4",
   "metadata": {},
   "source": [
    "**75% of the referrals have less than or equal to 6 years experience**\n",
    "\n",
    "**Mean salary of referrals is 86.44 which is higher than the median value indicating that the ditribution is right tailed**"
   ]
  },
  {
   "cell_type": "code",
   "execution_count": 364,
   "id": "47a8fde0",
   "metadata": {},
   "outputs": [
    {
     "data": {
      "image/png": "[encoded data removed]",
      "text/plain": [
       "<Figure size 720x576 with 4 Axes>"
      ]
     },
     "metadata": {
      "needs_background": "light"
     },
     "output_type": "display_data"
    }
   ],
   "source": [
    "fig, axes = plt.subplots(nrows=2,ncols=2)\n",
    "fig.set_size_inches(10,8)\n",
    "sns.histplot(df['referral_exp_in_years'], kde=True, ax=axes[0][0])\n",
    "sns.boxplot(x='referral_exp_in_years', data=df, ax=axes[0][1])\n",
    "sns.histplot(df['referral_current_salary'] , kde=True, ax=axes[1][0])\n",
    "sns.boxplot(x='referral_current_salary', data=df , ax=axes[1][1])\n",
    "plt.show()"
   ]
  },
  {
   "cell_type": "markdown",
   "id": "97e8d462",
   "metadata": {},
   "source": [
    "**Both referral_exp_in_years and referral_current_salary have ouliers in upper values**"
   ]
  },
  {
   "cell_type": "code",
   "execution_count": 365,
   "id": "4f323d8a",
   "metadata": {},
   "outputs": [
    {
     "data": {
      "text/plain": [
       "Mumbai       0.464930\n",
       "Bangalore    0.284569\n",
       "Delhi        0.186373\n",
       "Pune         0.064128\n",
       "Name: referral_preferred_city, dtype: float64"
      ]
     },
     "execution_count": 365,
     "metadata": {},
     "output_type": "execute_result"
    }
   ],
   "source": [
    "df['referral_preferred_city'].value_counts(normalize=True)"
   ]
  },
  {
   "cell_type": "markdown",
   "id": "f16f1caa",
   "metadata": {},
   "source": [
    "#### Bivariate Analysis"
   ]
  },
  {
   "cell_type": "code",
   "execution_count": 366,
   "id": "c69e0cc0",
   "metadata": {},
   "outputs": [
    {
     "name": "stderr",
     "output_type": "stream",
     "text": [
      "C:\\Users\\NikhilSingh\\anaconda3\\lib\\site-packages\\seaborn\\_decorators.py:36: FutureWarning: Pass the following variables as keyword args: x, y. From version 0.12, the only valid positional argument will be `data`, and passing other arguments without an explicit keyword will result in an error or misinterpretation.\n",
      "  warnings.warn(\n"
     ]
    },
    {
     "data": {
      "text/plain": [
       "<AxesSubplot:xlabel='referral_exp_in_years', ylabel='referral_current_salary'>"
      ]
     },
     "execution_count": 366,
     "metadata": {},
     "output_type": "execute_result"
    },
    {
     "data": {
      "image/png": "[encoded data removed]",
      "text/plain": [
       "<Figure size 432x288 with 1 Axes>"
      ]
     },
     "metadata": {
      "needs_background": "light"
     },
     "output_type": "display_data"
    }
   ],
   "source": [
    "sns.scatterplot(df['referral_exp_in_years'],df['referral_current_salary'])"
   ]
  },
  {
   "cell_type": "markdown",
   "id": "e9c15abe",
   "metadata": {},
   "source": [
    "**From the above plot we see that as the referral experience increases the salary is also increasing showing a positive relationship.**"
   ]
  },
  {
   "cell_type": "code",
   "execution_count": 367,
   "id": "f2eb2829",
   "metadata": {},
   "outputs": [
    {
     "data": {
      "text/plain": [
       "<AxesSubplot:xlabel='Emp_Salary_Grade', ylabel='count'>"
      ]
     },
     "execution_count": 367,
     "metadata": {},
     "output_type": "execute_result"
    },
    {
     "data": {
      "image/png": "[encoded data removed]",
      "text/plain": [
       "<Figure size 432x288 with 1 Axes>"
      ]
     },
     "metadata": {
      "needs_background": "light"
     },
     "output_type": "display_data"
    }
   ],
   "source": [
    "sns.countplot(x='Emp_Salary_Grade', hue='Joined', data=df)"
   ]
  },
  {
   "cell_type": "code",
   "execution_count": 368,
   "id": "40627186",
   "metadata": {},
   "outputs": [
    {
     "data": {
      "text/html": [
       "<div>\n",
       "<style scoped>\n",
       "    .dataframe tbody tr th:only-of-type {\n",
       "        vertical-align: middle;\n",
       "    }\n",
       "\n",
       "    .dataframe tbody tr th {\n",
       "        vertical-align: top;\n",
       "    }\n",
       "\n",
       "    .dataframe thead th {\n",
       "        text-align: right;\n",
       "    }\n",
       "</style>\n",
       "<table border=\"1\" class=\"dataframe\">\n",
       "  <thead>\n",
       "    <tr style=\"text-align: right;\">\n",
       "      <th>Joined</th>\n",
       "      <th>No</th>\n",
       "      <th>Yes</th>\n",
       "      <th>All</th>\n",
       "    </tr>\n",
       "    <tr>\n",
       "      <th>Emp_Salary_Grade</th>\n",
       "      <th></th>\n",
       "      <th></th>\n",
       "      <th></th>\n",
       "    </tr>\n",
       "  </thead>\n",
       "  <tbody>\n",
       "    <tr>\n",
       "      <th>EE0</th>\n",
       "      <td>0.104208</td>\n",
       "      <td>0.078156</td>\n",
       "      <td>0.182365</td>\n",
       "    </tr>\n",
       "    <tr>\n",
       "      <th>EL0</th>\n",
       "      <td>0.220441</td>\n",
       "      <td>0.222445</td>\n",
       "      <td>0.442886</td>\n",
       "    </tr>\n",
       "    <tr>\n",
       "      <th>ML0</th>\n",
       "      <td>0.198397</td>\n",
       "      <td>0.176353</td>\n",
       "      <td>0.374749</td>\n",
       "    </tr>\n",
       "    <tr>\n",
       "      <th>All</th>\n",
       "      <td>0.523046</td>\n",
       "      <td>0.476954</td>\n",
       "      <td>1.000000</td>\n",
       "    </tr>\n",
       "  </tbody>\n",
       "</table>\n",
       "</div>"
      ],
      "text/plain": [
       "Joined                  No       Yes       All\n",
       "Emp_Salary_Grade                              \n",
       "EE0               0.104208  0.078156  0.182365\n",
       "EL0               0.220441  0.222445  0.442886\n",
       "ML0               0.198397  0.176353  0.374749\n",
       "All               0.523046  0.476954  1.000000"
      ]
     },
     "execution_count": 368,
     "metadata": {},
     "output_type": "execute_result"
    }
   ],
   "source": [
    "pd.crosstab(df['Emp_Salary_Grade'], df['Joined'], margins=True, normalize = True)"
   ]
  },
  {
   "cell_type": "markdown",
   "id": "adc1a35c",
   "metadata": {},
   "source": [
    "**44.29% referrals are from the EL0 grade.**\n",
    "\n",
    "**There is no major difference in the referrals joining or not joining based on gardes**"
   ]
  },
  {
   "cell_type": "code",
   "execution_count": 369,
   "id": "cd0d7473",
   "metadata": {},
   "outputs": [
    {
     "data": {
      "text/plain": [
       "<AxesSubplot:xlabel='Joined', ylabel='referral_expected_sal'>"
      ]
     },
     "execution_count": 369,
     "metadata": {},
     "output_type": "execute_result"
    },
    {
     "data": {
      "image/png": "[encoded data removed]",
      "text/plain": [
       "<Figure size 432x288 with 1 Axes>"
      ]
     },
     "metadata": {
      "needs_background": "light"
     },
     "output_type": "display_data"
    }
   ],
   "source": [
    "fig_dims = (12, 5)\n",
    "sns.boxplot(x='Joined', y='referral_expected_sal', data=df)"
   ]
  },
  {
   "cell_type": "markdown",
   "id": "10e7d303",
   "metadata": {},
   "source": [
    "**Median value of the expected salary for referrals who have joined is almost same as referrals who have not joined. However, there is a major difference in the range of expected salary for the 2 categories.**"
   ]
  },
  {
   "cell_type": "code",
   "execution_count": null,
   "id": "33abb0ff",
   "metadata": {},
   "outputs": [],
   "source": [
    "sns.pairplot(df)"
   ]
  },
  {
   "cell_type": "code",
   "execution_count": null,
   "id": "ce954c9c",
   "metadata": {},
   "outputs": [],
   "source": [
    "plt.figure(figsize=(15,15))\n",
    "sns.heatmap(df.corr(),annot=True,fmt=\".2f\");"
   ]
  },
  {
   "cell_type": "markdown",
   "id": "f7185c91",
   "metadata": {},
   "source": [
    "**There is a strong correlation observed between few fields. 'Salary offered' is highly correlated to 'referral_age' and 'referral_exp_in_years'**\n",
    "\n",
    "**Also, 'Salary offered' shows high correlation with 'referral_expected_sal'**"
   ]
  },
  {
   "cell_type": "code",
   "execution_count": null,
   "id": "4bc06264",
   "metadata": {},
   "outputs": [],
   "source": [
    "fig_dims = (12, 6)\n",
    "fig = plt.subplots(figsize=fig_dims)\n",
    "sns.boxplot(x='Joined', y='referral_age', hue='Emp_Salary_Grade',data=df)"
   ]
  },
  {
   "cell_type": "markdown",
   "id": "b9efb753",
   "metadata": {},
   "source": [
    "**Median age of referrals who have joined is higher for EE0 grade compared to other grades.**"
   ]
  },
  {
   "cell_type": "code",
   "execution_count": null,
   "id": "8f4df7c9",
   "metadata": {},
   "outputs": [],
   "source": [
    "df_cat = df.select_dtypes(include=['object'])"
   ]
  },
  {
   "cell_type": "code",
   "execution_count": null,
   "id": "99f03484",
   "metadata": {},
   "outputs": [],
   "source": [
    "df_num = df.select_dtypes(exclude=['object'])"
   ]
  },
  {
   "cell_type": "markdown",
   "id": "71cf3130",
   "metadata": {},
   "source": [
    "### Data Prepration\n",
    "\n",
    "##### Scaling"
   ]
  },
  {
   "cell_type": "code",
   "execution_count": null,
   "id": "1fc0831d",
   "metadata": {},
   "outputs": [],
   "source": [
    "df_cat"
   ]
  },
  {
   "cell_type": "code",
   "execution_count": null,
   "id": "954edf0f",
   "metadata": {},
   "outputs": [],
   "source": [
    "from scipy.stats import zscore\n",
    "data_scaled=df_num.apply(zscore) #We have applied ZScore to our Numerical Data Features."
   ]
  },
  {
   "cell_type": "code",
   "execution_count": null,
   "id": "851c701e",
   "metadata": {},
   "outputs": [],
   "source": [
    "data_scaled.head()"
   ]
  },
  {
   "cell_type": "code",
   "execution_count": null,
   "id": "12bc47b5",
   "metadata": {},
   "outputs": [],
   "source": [
    "df.describe()"
   ]
  },
  {
   "cell_type": "code",
   "execution_count": null,
   "id": "773efaf1",
   "metadata": {},
   "outputs": [],
   "source": [
    "data_scaled.describe()"
   ]
  },
  {
   "cell_type": "code",
   "execution_count": null,
   "id": "836a8491",
   "metadata": {},
   "outputs": [],
   "source": [
    "fig, axes = plt.subplots(nrows=1,ncols=2)\n",
    "fig.set_size_inches(10,5)\n",
    "sns.histplot(df['referral_current_salary'] , kde=True, ax=axes[0])\n",
    "sns.histplot(data_scaled['referral_current_salary'] , kde=True, ax=axes[1])\n",
    "plt.show()"
   ]
  },
  {
   "cell_type": "markdown",
   "id": "9d17a2f8",
   "metadata": {},
   "source": [
    "**We can also use Standard Scaler Method**"
   ]
  },
  {
   "cell_type": "code",
   "execution_count": null,
   "id": "e46e3829",
   "metadata": {},
   "outputs": [],
   "source": [
    "from sklearn.preprocessing import StandardScaler\n",
    "scaler = StandardScaler().fit(df_num)\n",
    "data_standard=scaler.transform(df_num)\n",
    "data_standard=pd.DataFrame(data_standard, columns=df_num.columns)\n",
    "data_standard.describe()"
   ]
  },
  {
   "cell_type": "markdown",
   "id": "dc473c74",
   "metadata": {},
   "source": [
    "**Using Min Max Scaler**"
   ]
  },
  {
   "cell_type": "code",
   "execution_count": null,
   "id": "431099a1",
   "metadata": {},
   "outputs": [],
   "source": [
    "from sklearn.preprocessing import MinMaxScaler\n",
    "\n",
    "scaler = MinMaxScaler().fit(df_num)\n",
    "\n",
    "data_minmax = scaler.transform(df_num)\n",
    "data_minmax=pd.DataFrame(data_minmax, columns=df_num.columns)"
   ]
  },
  {
   "cell_type": "code",
   "execution_count": null,
   "id": "d98b7eff",
   "metadata": {},
   "outputs": [],
   "source": [
    "data_minmax.describe()"
   ]
  },
  {
   "cell_type": "markdown",
   "id": "b86641a4",
   "metadata": {},
   "source": [
    "**Applying zscore or using StandardScalar give us the same results**\n",
    "\n",
    "**It scales the data in such a way that the mean value of the features tends to 0 and the standard deviation tends to 1**\n",
    "\n",
    "**Min-Max method ensure that the data scaled to have values in the range 0 to 1**"
   ]
  },
  {
   "cell_type": "markdown",
   "id": "2ce362ac",
   "metadata": {},
   "source": [
    "##### Scaling"
   ]
  },
  {
   "cell_type": "code",
   "execution_count": null,
   "id": "09e24264",
   "metadata": {},
   "outputs": [],
   "source": [
    "df.referral_current_salary.describe()"
   ]
  },
  {
   "cell_type": "code",
   "execution_count": null,
   "id": "1746f424",
   "metadata": {},
   "outputs": [],
   "source": [
    "fig_dims = (10, 5) \n",
    "fig, axs = plt.subplots(nrows=1, ncols=2, figsize=fig_dims) \n",
    "sns.histplot(df.referral_current_salary, kde=True, ax=axs[0]) \n",
    "sns.boxplot(x= 'referral_current_salary', data=df, ax=axs[1])"
   ]
  },
  {
   "cell_type": "code",
   "execution_count": null,
   "id": "876a6ddc",
   "metadata": {},
   "outputs": [],
   "source": [
    "skew = df['referral_current_salary'].skew()\n",
    "\n",
    "Kurt = df['referral_current_salary'].kurtosis()"
   ]
  },
  {
   "cell_type": "code",
   "execution_count": null,
   "id": "93d5cd63",
   "metadata": {},
   "outputs": [],
   "source": [
    "print(skew)\n",
    "print(Kurt)"
   ]
  },
  {
   "cell_type": "markdown",
   "id": "815d0dd8",
   "metadata": {},
   "source": [
    "**Skewness assesses the extent to which a variable’s distribution is symmetrical.**\n",
    "\n",
    "**Kurtosis is a measure of whether the distribution is too peaked**"
   ]
  },
  {
   "cell_type": "markdown",
   "id": "2b92a77e",
   "metadata": {},
   "source": [
    "**Ideal Skewness and Kurtosis should be between -1 to 1**"
   ]
  },
  {
   "cell_type": "markdown",
   "id": "3dac45bd",
   "metadata": {},
   "source": [
    "**If we reduce the skewness and kurtosis from a very high value to lower values we are able to get the data distirbuted more normally.**"
   ]
  },
  {
   "cell_type": "code",
   "execution_count": null,
   "id": "5dae89a5",
   "metadata": {},
   "outputs": [],
   "source": [
    "print(np.log(df['referral_current_salary']).skew())\n",
    "print(np.log(df['referral_current_salary']).kurtosis())\n",
    "\n",
    "fig_dims = (10, 5) \n",
    "fig, axs = plt.subplots(nrows=1, ncols=2, figsize=fig_dims) \n",
    "sns.histplot(np.log(df['referral_current_salary']), kde=True, ax = axs[0])\n",
    "sns.boxplot(x= np.log(df['referral_current_salary']), ax = axs[1])\n",
    "plt.show()"
   ]
  },
  {
   "cell_type": "code",
   "execution_count": null,
   "id": "65a6965e",
   "metadata": {},
   "outputs": [],
   "source": [
    "print(np.sqrt(df['referral_current_salary']).skew())\n",
    "print(np.sqrt(df['referral_current_salary']).kurtosis())\n",
    "\n",
    "fig_dims = (10, 5) \n",
    "fig, axs = plt.subplots(nrows=1, ncols=2, figsize=fig_dims) \n",
    "sns.histplot(np.sqrt(df['referral_current_salary']), kde=True, ax = axs[0])\n",
    "sns.boxplot(x=np.sqrt(df['referral_current_salary']), ax = axs[1])\n",
    "plt.show()"
   ]
  },
  {
   "cell_type": "code",
   "execution_count": null,
   "id": "77a1a2c2",
   "metadata": {},
   "outputs": [],
   "source": [
    "print((df['referral_current_salary']**0.1).skew())\n",
    "print((df['referral_current_salary']**0.1).kurtosis())\n",
    "\n",
    "fig_dims = (10, 5) \n",
    "fig, axs = plt.subplots(nrows=1, ncols=2, figsize=fig_dims) \n",
    "sns.histplot((df['referral_current_salary']**0.1), kde=True, ax = axs[0])\n",
    "sns.boxplot(x=(df['referral_current_salary']**0.1), ax = axs[1])\n",
    "plt.show()"
   ]
  },
  {
   "cell_type": "markdown",
   "id": "b88ed7a7",
   "metadata": {},
   "source": [
    "**In situations where our data is highly skewed and the algorithm we plan to use for prediction has a prerequisite that the data has to be normally distributed, above transformations can be applied.**"
   ]
  },
  {
   "cell_type": "markdown",
   "id": "bfadd477",
   "metadata": {},
   "source": [
    "##### Outlier Treatment"
   ]
  },
  {
   "cell_type": "code",
   "execution_count": null,
   "id": "e7d5c2e1",
   "metadata": {},
   "outputs": [],
   "source": [
    "sns.boxplot(x=df_num['referral_current_salary'])"
   ]
  },
  {
   "cell_type": "code",
   "execution_count": null,
   "id": "602dd909",
   "metadata": {},
   "outputs": [],
   "source": [
    "df_num['referral_current_salary_zscore'] = ( df_num.referral_current_salary - df_num.referral_current_salary.mean() ) / df_num.referral_current_salary.std()\n"
   ]
  },
  {
   "cell_type": "code",
   "execution_count": null,
   "id": "ce8e3cab",
   "metadata": {},
   "outputs": [],
   "source": [
    "df_num['referral_current_salary_zscore'].describe()\n"
   ]
  },
  {
   "cell_type": "code",
   "execution_count": null,
   "id": "7da39bdf",
   "metadata": {},
   "outputs": [],
   "source": [
    "df_num[df_num['referral_current_salary_zscore'] > 3]\n"
   ]
  },
  {
   "cell_type": "code",
   "execution_count": null,
   "id": "98781562",
   "metadata": {},
   "outputs": [],
   "source": [
    "df_num[df_num['referral_current_salary_zscore'] < -3]"
   ]
  },
  {
   "cell_type": "code",
   "execution_count": null,
   "id": "41ebc90e",
   "metadata": {},
   "outputs": [],
   "source": [
    "df_num[df_num['referral_current_salary_zscore'] > 3].referral_current_salary"
   ]
  },
  {
   "cell_type": "code",
   "execution_count": null,
   "id": "e6c2d183",
   "metadata": {},
   "outputs": [],
   "source": [
    "referral_current_salary_impute_value = (3*df_num.referral_current_salary.std()) + df_num.referral_current_salary.mean()\n",
    "round(referral_current_salary_impute_value,2)"
   ]
  },
  {
   "cell_type": "markdown",
   "id": "5e95b813",
   "metadata": {},
   "source": [
    "**We have calcualed the value for 'referral_current_salary' if ZScore has to be 3**"
   ]
  },
  {
   "cell_type": "code",
   "execution_count": null,
   "id": "232eb149",
   "metadata": {},
   "outputs": [],
   "source": [
    "list1 = df_num[df_num['referral_current_salary_zscore'] > 3].index"
   ]
  },
  {
   "cell_type": "code",
   "execution_count": null,
   "id": "1bb35d30",
   "metadata": {},
   "outputs": [],
   "source": [
    "df_num['referral_current_salary'] = np.where(df_num.index.isin(list1), round(referral_current_salary_impute_value,2), \n",
    "                                         df_num['referral_current_salary'])"
   ]
  },
  {
   "cell_type": "code",
   "execution_count": null,
   "id": "c033062b",
   "metadata": {},
   "outputs": [],
   "source": [
    "sns.boxplot(x=df_num.referral_current_salary)"
   ]
  },
  {
   "cell_type": "code",
   "execution_count": null,
   "id": "2cfbfe9f",
   "metadata": {},
   "outputs": [],
   "source": [
    "df_num.referral_current_salary.describe()"
   ]
  },
  {
   "cell_type": "code",
   "execution_count": null,
   "id": "ed29d1a8",
   "metadata": {},
   "outputs": [],
   "source": [
    "df_num.drop(['referral_current_salary_zscore'], axis=1, inplace=True)"
   ]
  },
  {
   "cell_type": "markdown",
   "id": "8f241f68",
   "metadata": {},
   "source": [
    "##### Label Encoding"
   ]
  },
  {
   "cell_type": "code",
   "execution_count": null,
   "id": "4c7c33c2",
   "metadata": {
    "scrolled": true
   },
   "outputs": [],
   "source": [
    "df_cat"
   ]
  },
  {
   "cell_type": "code",
   "execution_count": null,
   "id": "0a8ce919",
   "metadata": {},
   "outputs": [],
   "source": []
  },
  {
   "cell_type": "code",
   "execution_count": null,
   "id": "5ba2305e",
   "metadata": {},
   "outputs": [],
   "source": [
    "df_new =pd.get_dummies(df_cat,drop_first=True)"
   ]
  },
  {
   "cell_type": "code",
   "execution_count": null,
   "id": "83676c70",
   "metadata": {},
   "outputs": [],
   "source": [
    "df_new"
   ]
  },
  {
   "cell_type": "code",
   "execution_count": null,
   "id": "d6bf3cc8",
   "metadata": {},
   "outputs": [],
   "source": [
    "df_num"
   ]
  },
  {
   "cell_type": "code",
   "execution_count": null,
   "id": "46785169",
   "metadata": {},
   "outputs": [],
   "source": []
  }
 ],
 "metadata": {
  "kernelspec": {
   "display_name": "Python 3 (ipykernel)",
   "language": "python",
   "name": "python3"
  },
  "language_info": {
   "codemirror_mode": {
    "name": "ipython",
    "version": 3
   },
   "file_extension": ".py",
   "mimetype": "text/x-python",
   "name": "python",
   "nbconvert_exporter": "python",
   "pygments_lexer": "ipython3",
   "version": "3.9.7"
  }
 },
 "nbformat": 4,
 "nbformat_minor": 5
}
